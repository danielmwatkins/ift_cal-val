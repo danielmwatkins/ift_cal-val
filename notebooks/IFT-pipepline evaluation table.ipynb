{
 "cells": [
  {
   "cell_type": "markdown",
   "id": "7e46c0c6-db20-4725-8019-0363713c797c",
   "metadata": {},
   "source": [
    "# IFT-pipeline evaluation table\n",
    "Now that there is a functional pipeline, we can use it to identify where various stages of the pipeline fail to guide development. This notebook checks the output of each subfolder given a site specification table and a results folder.\n",
    "\n",
    "## Steps that we are checking\n",
    "1. soit\n",
    "2. landmask\n",
    "3. preprocess\n",
    "4. extractfeatures\n",
    "5. tracking\n",
    "6. exportH5\n",
    "\n",
    "The first four are applied linearly, so the maximum number of successes for step `i` is the number of successes at step `i-1`. Here, we are considering a success if the task was completed with error, i.e., *something* is in the appropriate folder."
   ]
  },
  {
   "cell_type": "code",
   "execution_count": 3,
   "id": "6d6df268-8859-444b-8c02-4264a2a9ca03",
   "metadata": {},
   "outputs": [],
   "source": [
    "import numpy as np\n",
    "import os\n",
    "import pandas as pd"
   ]
  },
  {
   "cell_type": "code",
   "execution_count": 14,
   "id": "e9a5fb96-0a4f-4bd0-ae64-19657d63c953",
   "metadata": {},
   "outputs": [],
   "source": [
    "region = 'baffin_bay'\n",
    "site_locations = pd.read_csv('../data/location_specifications/baffin_bay_100km_cases.csv', index_col='location')\n",
    "results_folder = 'baffin_bay_20240124T1406Z/'\n",
    "results_loc = '../data/ift_results/' + results_folder"
   ]
  },
  {
   "cell_type": "code",
   "execution_count": 16,
   "id": "d9eec628-52dc-4e04-9de6-44e6f95c5fde",
   "metadata": {},
   "outputs": [],
   "source": [
    "region = 'beaufort_sea'\n",
    "site_locations = pd.read_csv('../data/location_specifications/beaufort_sea_100km_cases.csv', index_col='location')\n",
    "results_folder = 'beaufort_sea_20240124T1618Z/'\n",
    "results_loc = '../data/ift_results/' + results_folder"
   ]
  },
  {
   "cell_type": "code",
   "execution_count": 17,
   "id": "a8b3f5f3-3fdf-4fbb-a5d0-1a0d641f9d14",
   "metadata": {},
   "outputs": [],
   "source": [
    "# soit successes\n",
    "site_locations['soit'] = 'NA'\n",
    "for case in site_locations.index:\n",
    "    if len(os.listdir(results_loc + '/' + case + '/soit' )) > 0:\n",
    "        site_locations.loc[case, 'soit'] = 'pass'\n",
    "    else:\n",
    "        site_locations.loc[case, 'soit'] = 'fail'\n",
    "\n",
    "# landmask successes\n",
    "site_locations['landmask'] = 'NA'\n",
    "for case in site_locations.index:\n",
    "    files = [x for x in os.listdir(results_loc + '/' + case + '/landmasks/') if x != '.DS_Store']\n",
    "    if len(files) != 0:\n",
    "        site_locations.loc[case, 'landmask'] = 'pass'\n",
    "    elif site_locations.loc[case, 'soit'] == 'pass':\n",
    "        site_locations.loc[case, 'landmask'] = 'fail'\n",
    "\n",
    "# preprocessing successes\n",
    "# here, slightly different check. hdf5-files will always be there.\n",
    "site_locations['preprocess'] = 'NA'\n",
    "site_locations['extractH5'] = 'NA'\n",
    "site_locations['tracker'] = 'NA'\n",
    "for case in site_locations.index:\n",
    "    files = [x for x in os.listdir(results_loc + '/' + case + '/preprocess/') if x not in ['.DS_Store', 'hdf5-files']]\n",
    "    if len(files) != 0:\n",
    "        site_locations.loc[case, 'preprocess'] = 'pass'\n",
    "        h5files = [x for x in os.listdir(results_loc + '/' + case + '/preprocess/hdf5-files') if x != '.DS_Store']\n",
    "\n",
    "        # Check h5 and tracker if it passes the preprocess step\n",
    "        if len(h5files) != 0:\n",
    "            site_locations.loc[case, 'extractH5'] = 'pass'\n",
    "        else:\n",
    "            site_locations.loc[case, 'extractH5'] = 'fail'\n",
    "        trfiles = [x for x in os.listdir(results_loc + '/' + case + '/tracker') if x != '.DS_Store']            \n",
    "        if len(trfiles) != 0:\n",
    "            site_locations.loc[case, 'tracker'] = 'pass'\n",
    "        else:\n",
    "            site_locations.loc[case, 'tracker'] = 'fail'            \n",
    "\n",
    "    elif site_locations.loc[case, 'soit'] == 'pass':\n",
    "        if site_locations.loc[case, 'landmask'] == 'pass': \n",
    "            site_locations.loc[case, 'preprocess'] = 'fail'\n",
    "\n",
    "site_locations.loc[:,['soit', 'landmask', 'preprocess', 'extractH5', 'tracker']].to_csv(results_loc + region + '_evaluation_table.csv')"
   ]
  },
  {
   "cell_type": "code",
   "execution_count": 18,
   "id": "d679ad39-cfc8-4607-87c9-fa370563c96a",
   "metadata": {},
   "outputs": [
    {
     "data": {
      "text/html": [
       "<div>\n",
       "<style scoped>\n",
       "    .dataframe tbody tr th:only-of-type {\n",
       "        vertical-align: middle;\n",
       "    }\n",
       "\n",
       "    .dataframe tbody tr th {\n",
       "        vertical-align: top;\n",
       "    }\n",
       "\n",
       "    .dataframe thead th {\n",
       "        text-align: right;\n",
       "    }\n",
       "</style>\n",
       "<table border=\"1\" class=\"dataframe\">\n",
       "  <thead>\n",
       "    <tr style=\"text-align: right;\">\n",
       "      <th></th>\n",
       "      <th>pass</th>\n",
       "      <th>fail</th>\n",
       "    </tr>\n",
       "  </thead>\n",
       "  <tbody>\n",
       "    <tr>\n",
       "      <th>soit</th>\n",
       "      <td>21</td>\n",
       "      <td>0</td>\n",
       "    </tr>\n",
       "    <tr>\n",
       "      <th>landmask</th>\n",
       "      <td>21</td>\n",
       "      <td>0</td>\n",
       "    </tr>\n",
       "    <tr>\n",
       "      <th>preprocess</th>\n",
       "      <td>9</td>\n",
       "      <td>12</td>\n",
       "    </tr>\n",
       "    <tr>\n",
       "      <th>extractH5</th>\n",
       "      <td>9</td>\n",
       "      <td>0</td>\n",
       "    </tr>\n",
       "    <tr>\n",
       "      <th>tracker</th>\n",
       "      <td>4</td>\n",
       "      <td>5</td>\n",
       "    </tr>\n",
       "  </tbody>\n",
       "</table>\n",
       "</div>"
      ],
      "text/plain": [
       "            pass  fail\n",
       "soit          21     0\n",
       "landmask      21     0\n",
       "preprocess     9    12\n",
       "extractH5      9     0\n",
       "tracker        4     5"
      ]
     },
     "execution_count": 18,
     "metadata": {},
     "output_type": "execute_result"
    }
   ],
   "source": [
    "results = pd.concat([\n",
    "    (site_locations.loc[:,['soit', 'landmask', 'preprocess', 'extractH5', 'tracker']] == 'pass').sum(axis=0),\n",
    "    (site_locations.loc[:,['soit', 'landmask', 'preprocess', 'extractH5', 'tracker']] == 'fail').sum(axis=0)], axis=1)\n",
    "results.columns = ['pass', 'fail']\n",
    "results"
   ]
  },
  {
   "cell_type": "code",
   "execution_count": null,
   "id": "0413f051-5460-4cc1-9811-9984f95c551b",
   "metadata": {},
   "outputs": [],
   "source": []
  }
 ],
 "metadata": {
  "kernelspec": {
   "display_name": "Python 3 (ipykernel)",
   "language": "python",
   "name": "python3"
  },
  "language_info": {
   "codemirror_mode": {
    "name": "ipython",
    "version": 3
   },
   "file_extension": ".py",
   "mimetype": "text/x-python",
   "name": "python",
   "nbconvert_exporter": "python",
   "pygments_lexer": "ipython3",
   "version": "3.9.13"
  }
 },
 "nbformat": 4,
 "nbformat_minor": 5
}
