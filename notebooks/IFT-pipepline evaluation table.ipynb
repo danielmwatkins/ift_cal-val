{
 "cells": [
  {
   "cell_type": "markdown",
   "id": "7e46c0c6-db20-4725-8019-0363713c797c",
   "metadata": {},
   "source": [
    "# IFT-pipeline evaluation table\n",
    "Now that there is a functional pipeline, we can use it to identify where various stages of the pipeline fail to guide development. This notebook checks the output of each subfolder given a site specification table and a results folder.\n",
    "\n",
    "## Steps that we are checking\n",
    "1. soit\n",
    "2. landmask\n",
    "3. preprocess\n",
    "4. extractfeatures\n",
    "5. tracking\n",
    "6. exportH5\n",
    "\n",
    "The first four are applied linearly, so the maximum number of successes for step `i` is the number of successes at step `i-1`. Here, we are considering a success if the task was completed with error, i.e., *something* is in the appropriate folder.\n",
    "\n",
    "TBD: Consider replacing this notebook with a section in the README and a script."
   ]
  },
  {
   "cell_type": "code",
   "execution_count": 3,
   "id": "6d6df268-8859-444b-8c02-4264a2a9ca03",
   "metadata": {},
   "outputs": [],
   "source": [
    "import numpy as np\n",
    "import os\n",
    "import pandas as pd"
   ]
  },
  {
   "cell_type": "code",
   "execution_count": 10,
   "id": "e9a5fb96-0a4f-4bd0-ae64-19657d63c953",
   "metadata": {},
   "outputs": [
    {
     "ename": "FileNotFoundError",
     "evalue": "[Errno 2] No such file or directory: '../data/ift_results/beaufort_sea/20240124T1618Z/beaufort_sea-100km_by_100km-20030422-20030423'",
     "output_type": "error",
     "traceback": [
      "\u001b[0;31m---------------------------------------------------------------------------\u001b[0m",
      "\u001b[0;31mFileNotFoundError\u001b[0m                         Traceback (most recent call last)",
      "Cell \u001b[0;32mIn[10], line 22\u001b[0m\n\u001b[1;32m     20\u001b[0m site_locations[\u001b[38;5;124m'\u001b[39m\u001b[38;5;124msoit\u001b[39m\u001b[38;5;124m'\u001b[39m] \u001b[38;5;241m=\u001b[39m \u001b[38;5;124m'\u001b[39m\u001b[38;5;124mNA\u001b[39m\u001b[38;5;124m'\u001b[39m\n\u001b[1;32m     21\u001b[0m \u001b[38;5;28;01mfor\u001b[39;00m case \u001b[38;5;129;01min\u001b[39;00m site_locations\u001b[38;5;241m.\u001b[39mindex:\n\u001b[0;32m---> 22\u001b[0m     \u001b[38;5;28;01mif\u001b[39;00m \u001b[38;5;124m'\u001b[39m\u001b[38;5;124msoit\u001b[39m\u001b[38;5;124m'\u001b[39m \u001b[38;5;129;01min\u001b[39;00m \u001b[43mos\u001b[49m\u001b[38;5;241;43m.\u001b[39;49m\u001b[43mlistdir\u001b[49m\u001b[43m(\u001b[49m\u001b[43mresults_loc\u001b[49m\u001b[43m \u001b[49m\u001b[38;5;241;43m+\u001b[39;49m\u001b[43m \u001b[49m\u001b[38;5;124;43m'\u001b[39;49m\u001b[38;5;124;43m/\u001b[39;49m\u001b[38;5;124;43m'\u001b[39;49m\u001b[43m \u001b[49m\u001b[38;5;241;43m+\u001b[39;49m\u001b[43m \u001b[49m\u001b[43mcase\u001b[49m\u001b[43m)\u001b[49m:\n\u001b[1;32m     23\u001b[0m         \u001b[38;5;28;01mif\u001b[39;00m \u001b[38;5;28mlen\u001b[39m(os\u001b[38;5;241m.\u001b[39mlistdir(results_loc \u001b[38;5;241m+\u001b[39m \u001b[38;5;124m'\u001b[39m\u001b[38;5;124m/\u001b[39m\u001b[38;5;124m'\u001b[39m \u001b[38;5;241m+\u001b[39m case \u001b[38;5;241m+\u001b[39m \u001b[38;5;124m'\u001b[39m\u001b[38;5;124m/soit\u001b[39m\u001b[38;5;124m'\u001b[39m )) \u001b[38;5;241m>\u001b[39m \u001b[38;5;241m0\u001b[39m:\n\u001b[1;32m     24\u001b[0m             site_locations\u001b[38;5;241m.\u001b[39mloc[case, \u001b[38;5;124m'\u001b[39m\u001b[38;5;124msoit\u001b[39m\u001b[38;5;124m'\u001b[39m] \u001b[38;5;241m=\u001b[39m \u001b[38;5;124m'\u001b[39m\u001b[38;5;124mpass\u001b[39m\u001b[38;5;124m'\u001b[39m\n",
      "\u001b[0;31mFileNotFoundError\u001b[0m: [Errno 2] No such file or directory: '../data/ift_results/beaufort_sea/20240124T1618Z/beaufort_sea-100km_by_100km-20030422-20030423'"
     ]
    }
   ],
   "source": [
    "results = {}\n",
    "\n",
    "runs = {'baffin_bay': ['20240124T1406Z', '20240318T2123Z'],\n",
    "        'beaufort_sea': ['20240124T1618Z'],\n",
    "        'barents-kara_seas': ['20240221T1715Z'],\n",
    "        'chukchi-east_siberian_sea': ['20240223T1406Z'],\n",
    "        'greenland_sea': ['20240223T1604Z'],\n",
    "        'hudson_bay': ['20240223T2108Z'],\n",
    "        'laptev_sea': ['20240306T1439Z'],\n",
    "        'sea_of_okhostk': ['20240306T1741Z']}\n",
    "\n",
    "for region in runs:\n",
    "    for timestamp in runs[region]:\n",
    "    \n",
    "        site_locations = pd.read_csv('../data/ift_case_definitions/' + region + '_100km_cases.csv', index_col='location')\n",
    "        results_folder = region + '/' + timestamp\n",
    "        results_loc = '../data/ift_results/' + results_folder\n",
    "    \n",
    "        # soit successes\n",
    "        site_locations['soit'] = 'NA'\n",
    "        for case in site_locations.index:\n",
    "            if 'soit' in os.listdir(results_loc + '/' + case):\n",
    "                if len(os.listdir(results_loc + '/' + case + '/soit' )) > 0:\n",
    "                    site_locations.loc[case, 'soit'] = 'pass'\n",
    "                else:\n",
    "                    site_locations.loc[case, 'soit'] = 'fail'\n",
    "        \n",
    "        # landmask successes\n",
    "        site_locations['landmask'] = 'NA'\n",
    "        for case in site_locations.index:\n",
    "            files = [x for x in os.listdir(results_loc + '/' + case + '/landmasks/') if x != '.DS_Store']\n",
    "            if len(files) != 0:\n",
    "                site_locations.loc[case, 'landmask'] = 'pass'\n",
    "            elif site_locations.loc[case, 'soit'] == 'pass':\n",
    "                site_locations.loc[case, 'landmask'] = 'fail'\n",
    "        \n",
    "        # preprocessing successes\n",
    "        # here, slightly different check. hdf5-files will always be there.\n",
    "        site_locations['preprocess'] = 'NA'\n",
    "        site_locations['extractH5'] = 'NA'\n",
    "        site_locations['tracker'] = 'NA'\n",
    "        for case in site_locations.index:\n",
    "            files = [x for x in os.listdir(results_loc + '/' + case + '/preprocess/') if x not in ['.DS_Store', 'hdf5-files']]\n",
    "            if len(files) != 0:\n",
    "                site_locations.loc[case, 'preprocess'] = 'pass'\n",
    "                h5files = [x for x in os.listdir(results_loc + '/' + case + '/preprocess/hdf5-files') if x != '.DS_Store']\n",
    "        \n",
    "                # Check h5 and tracker if it passes the preprocess step\n",
    "                if len(h5files) != 0:\n",
    "                    site_locations.loc[case, 'extractH5'] = 'pass'\n",
    "                else:\n",
    "                    site_locations.loc[case, 'extractH5'] = 'fail'\n",
    "                trfiles = [x for x in os.listdir(results_loc + '/' + case + '/tracker') if x != '.DS_Store']            \n",
    "                if len(trfiles) != 0:\n",
    "                    site_locations.loc[case, 'tracker'] = 'pass'\n",
    "                else:\n",
    "                    site_locations.loc[case, 'tracker'] = 'fail'            \n",
    "        \n",
    "            elif site_locations.loc[case, 'soit'] == 'pass':\n",
    "                if site_locations.loc[case, 'landmask'] == 'pass': \n",
    "                    site_locations.loc[case, 'preprocess'] = 'fail'\n",
    "        \n",
    "        site_locations.loc[:,['soit', 'landmask', 'preprocess', 'extractH5', 'tracker']].to_csv(\n",
    "            results_loc + '/' + region + '_evaluation_table.csv')\n",
    "        results[region] = site_locations.loc[:,['soit', 'landmask', 'preprocess', 'extractH5', 'tracker']]"
   ]
  },
  {
   "cell_type": "code",
   "execution_count": 5,
   "id": "a8b3f5f3-3fdf-4fbb-a5d0-1a0d641f9d14",
   "metadata": {},
   "outputs": [
    {
     "data": {
      "text/plain": [
       "'baffin_bay-100km_by_100km-20040725-20040726'"
      ]
     },
     "execution_count": 5,
     "metadata": {},
     "output_type": "execute_result"
    }
   ],
   "source": [
    "../data/ift_results/beafort_sea/"
   ]
  },
  {
   "cell_type": "code",
   "execution_count": 33,
   "id": "d679ad39-cfc8-4607-87c9-fa370563c96a",
   "metadata": {},
   "outputs": [],
   "source": [
    "attempted = {}\n",
    "for region in results:\n",
    "    attempted[region] = pd.concat([\n",
    "        (results[region].loc[:,['soit', 'landmask', 'preprocess', 'extractH5', 'tracker']] == 'pass').sum(axis=0),\n",
    "        (results[region].loc[:,['soit', 'landmask', 'preprocess', 'extractH5', 'tracker']] == 'fail').sum(axis=0)], axis=1)\n",
    "    attempted[region].columns = ['pass', 'fail']\n",
    "    attempted[region]['attempted'] = attempted[region]['pass'] + attempted[region]['fail']\n",
    "attempted = pd.concat(attempted) \n",
    "attempted = attempted.reset_index()\n",
    "attempted.rename({'level_0': 'region','level_1': 'task'}, axis=1, inplace=True)"
   ]
  },
  {
   "cell_type": "code",
   "execution_count": 42,
   "id": "0413f051-5460-4cc1-9811-9984f95c551b",
   "metadata": {},
   "outputs": [
    {
     "data": {
      "text/html": [
       "<div>\n",
       "<style scoped>\n",
       "    .dataframe tbody tr th:only-of-type {\n",
       "        vertical-align: middle;\n",
       "    }\n",
       "\n",
       "    .dataframe tbody tr th {\n",
       "        vertical-align: top;\n",
       "    }\n",
       "\n",
       "    .dataframe thead th {\n",
       "        text-align: right;\n",
       "    }\n",
       "</style>\n",
       "<table border=\"1\" class=\"dataframe\">\n",
       "  <thead>\n",
       "    <tr style=\"text-align: right;\">\n",
       "      <th>task</th>\n",
       "      <th>soit</th>\n",
       "      <th>landmask</th>\n",
       "      <th>preprocess</th>\n",
       "      <th>extractH5</th>\n",
       "      <th>tracker</th>\n",
       "    </tr>\n",
       "    <tr>\n",
       "      <th>region</th>\n",
       "      <th></th>\n",
       "      <th></th>\n",
       "      <th></th>\n",
       "      <th></th>\n",
       "      <th></th>\n",
       "    </tr>\n",
       "  </thead>\n",
       "  <tbody>\n",
       "    <tr>\n",
       "      <th>baffin_bay</th>\n",
       "      <td>0.05</td>\n",
       "      <td>0.0</td>\n",
       "      <td>0.60</td>\n",
       "      <td>0.0</td>\n",
       "      <td>0.38</td>\n",
       "    </tr>\n",
       "    <tr>\n",
       "      <th>barents-kara_seas</th>\n",
       "      <td>0.10</td>\n",
       "      <td>0.0</td>\n",
       "      <td>0.89</td>\n",
       "      <td>0.0</td>\n",
       "      <td>0.50</td>\n",
       "    </tr>\n",
       "    <tr>\n",
       "      <th>beaufort_sea</th>\n",
       "      <td>0.00</td>\n",
       "      <td>0.0</td>\n",
       "      <td>0.57</td>\n",
       "      <td>0.0</td>\n",
       "      <td>0.56</td>\n",
       "    </tr>\n",
       "    <tr>\n",
       "      <th>chukchi-east_siberian_sea</th>\n",
       "      <td>0.10</td>\n",
       "      <td>0.0</td>\n",
       "      <td>0.89</td>\n",
       "      <td>0.0</td>\n",
       "      <td>0.50</td>\n",
       "    </tr>\n",
       "    <tr>\n",
       "      <th>greenland_sea</th>\n",
       "      <td>0.00</td>\n",
       "      <td>0.0</td>\n",
       "      <td>0.86</td>\n",
       "      <td>0.0</td>\n",
       "      <td>0.33</td>\n",
       "    </tr>\n",
       "  </tbody>\n",
       "</table>\n",
       "</div>"
      ],
      "text/plain": [
       "task                       soit  landmask  preprocess  extractH5  tracker\n",
       "region                                                                   \n",
       "baffin_bay                 0.05       0.0        0.60        0.0     0.38\n",
       "barents-kara_seas          0.10       0.0        0.89        0.0     0.50\n",
       "beaufort_sea               0.00       0.0        0.57        0.0     0.56\n",
       "chukchi-east_siberian_sea  0.10       0.0        0.89        0.0     0.50\n",
       "greenland_sea              0.00       0.0        0.86        0.0     0.33"
      ]
     },
     "execution_count": 42,
     "metadata": {},
     "output_type": "execute_result"
    }
   ],
   "source": [
    "order = ['soit', 'landmask', 'preprocess', 'extractH5', 'tracker']\n",
    "attempted['fail_fraction'] = attempted['fail'] / attempted['attempted']\n",
    "attempted.pivot_table(index='region', columns='task', values='fail_fraction').loc[:, order].round(2)"
   ]
  },
  {
   "cell_type": "code",
   "execution_count": null,
   "id": "1a0da42b-4ec0-4354-b4c6-b3ce20807d91",
   "metadata": {},
   "outputs": [],
   "source": []
  },
  {
   "cell_type": "code",
   "execution_count": null,
   "id": "0038a342-6808-4684-8224-9dfd2bdb0e1d",
   "metadata": {},
   "outputs": [],
   "source": []
  }
 ],
 "metadata": {
  "kernelspec": {
   "display_name": "Python 3 (ipykernel)",
   "language": "python",
   "name": "python3"
  },
  "language_info": {
   "codemirror_mode": {
    "name": "ipython",
    "version": 3
   },
   "file_extension": ".py",
   "mimetype": "text/x-python",
   "name": "python",
   "nbconvert_exporter": "python",
   "pygments_lexer": "ipython3",
   "version": "3.10.13"
  }
 },
 "nbformat": 4,
 "nbformat_minor": 5
}
