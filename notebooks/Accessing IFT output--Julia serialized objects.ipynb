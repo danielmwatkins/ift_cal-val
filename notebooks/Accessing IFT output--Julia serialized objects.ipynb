{
 "cells": [
  {
   "cell_type": "markdown",
   "id": "1111cd2a-c1ad-48f1-9ea0-11dae882672d",
   "metadata": {},
   "source": [
    "# Accessing IFT output: Julia serialized objects\n",
    "\n",
    "The Ice Floe Tracker pipeline saves data in multiple formats. The two main formats are hdf-5 and Julia serialized objects. You can think of a `.jls` file like a Python pickle. It's a way to make the data quickly accessible in the same format it was while the computation was going on. And, like a Python pickle, it's not a format that is intended for long-term storage. That's what the hdf-5 files are for, along with CSV files. (Note: the plan is to have CSV output from the tracker module as well, but that capability has not yet been merged into main). \n",
    "\n",
    "You'll access the `.jls` objects using the deserialize function. "
   ]
  },
  {
   "cell_type": "code",
   "execution_count": 1,
   "id": "882f74fe-f9c0-4486-89a2-5d306a963247",
   "metadata": {},
   "outputs": [
    {
     "name": "stderr",
     "output_type": "stream",
     "text": [
      "WARNING: both ImageMetadata and ImageAxes export \"data\"; uses of it in module Images must be qualified\n"
     ]
    }
   ],
   "source": [
    "using IceFloeTracker\n",
    "using Images\n",
    "using FileIO\n",
    "using CSV\n",
    "using IceFloeTracker: pairfloes, deserialize, DataFrames, colorview, RGB, PaddedView, float64, mosaicview, Gray\n",
    "imshow(x) = Gray.(x);"
   ]
  },
  {
   "cell_type": "markdown",
   "id": "cf9b9ccc-8035-40ba-a103-826619eba1ab",
   "metadata": {},
   "source": [
    "We'll look at one of the cases where all the steps of the pipeline ran successfully (in terms of not throwing errors and crashing, not in terms of accuracy). The saved outputs are, in alphabetical order:\n",
    "1. landmasks\n",
    "2. preprocess ouput\n",
    "   1. filenames\n",
    "   2. floe_props\n",
    "   3. passtimes\n",
    "   4. segmented_floes\n",
    "   5. timedeltas\n",
    "3. soit (since this is a CSV file, I won't go over how to open it here)\n",
    "4. tracked floes"
   ]
  },
  {
   "cell_type": "code",
   "execution_count": 3,
   "id": "d0f1c9b1-4751-45cd-b327-fa5c25152e82",
   "metadata": {},
   "outputs": [],
   "source": [
    "results_loc = \"../data/ift_results/baffin_bay_20240124T1406Z/baffin_bay-100km_by_100km-20070605-20070606/\"\n",
    "\n",
    "# landmasks\n",
    "landmasks = deserialize(joinpath(results_loc, \"landmasks/generated_landmask.jls\"))\n",
    "\n",
    "# preprocess output\n",
    "fnames = deserialize(joinpath(results_loc, \"preprocess/filenames.jls\"));\n",
    "floe_props = deserialize(joinpath(results_loc, \"preprocess/floe_props.jls\"));\n",
    "passtimes = deserialize(joinpath(results_loc, \"preprocess/passtimes.jls\"));\n",
    "segmented_floes = deserialize(joinpath(results_loc, \"preprocess/segmented_floes.jls\"));\n",
    "timedeltas = deserialize(joinpath(results_loc, \"preprocess/timedeltas.jls\"));\n",
    "\n",
    "# tracker output\n",
    "tracked_floes = deserialize(joinpath(results_loc, \"tracker/labeled_floes.jls\"));"
   ]
  },
  {
   "cell_type": "markdown",
   "id": "09e8f98f-354c-4707-aef3-06f508eefd3b",
   "metadata": {},
   "source": [
    "The landmask files are empty for this case. It's an object with two components, a dilated landmask and a non-dilated landmask, which you can access in the same ways as object attributes in Python: `landmasks.dilated` and `landmasks.non_dilated`. You can visualize the objects with `imshow()`. Skipping that here though since there's no land in the scene.\n",
    "\n",
    "Names of the analyzed image files are stored, unsurprisingly, in `filenames.jls`:"
   ]
  },
  {
   "cell_type": "code",
   "execution_count": 12,
   "id": "82ca945b-0398-4ba4-9ad8-f9ef97030651",
   "metadata": {},
   "outputs": [
    {
     "data": {
      "text/plain": [
       "2-element Vector{String}:\n",
       " \"20070605.terra.truecolor.250m.tiff\"\n",
       " \"20070605.aqua.truecolor.250m.tiff\""
      ]
     },
     "execution_count": 12,
     "metadata": {},
     "output_type": "execute_result"
    }
   ],
   "source": [
    "fnames.truecolor"
   ]
  },
  {
   "cell_type": "code",
   "execution_count": 13,
   "id": "2d2e89eb-c808-4d1c-8f69-db284184ae3e",
   "metadata": {},
   "outputs": [
    {
     "data": {
      "text/plain": [
       "2-element Vector{String}:\n",
       " \"20070605.terra.reflectance.250m.tiff\"\n",
       " \"20070605.aqua.reflectance.250m.tiff\""
      ]
     },
     "execution_count": 13,
     "metadata": {},
     "output_type": "execute_result"
    }
   ],
   "source": [
    "fnames.reflectance"
   ]
  },
  {
   "cell_type": "markdown",
   "id": "084e3dfb-c814-446b-86b7-a277b566c920",
   "metadata": {},
   "source": [
    "(As a side note, I'm in the process of fixing the naming scheme in the code, because *all* the images are reflectance data. Really, the word reflectance as used here should be replaced with the word \"falsecolor\".)"
   ]
  },
  {
   "cell_type": "markdown",
   "id": "c5398849-0ad1-4cb3-97c4-df14f5377d82",
   "metadata": {},
   "source": [
    "The file `floe_props.jls` contains DataFrames with extracted features in image coordinates. That means all the values are in pixels, rather than kilometers or meters. There's one dataframe per image, so for this case there are two DataFrames. Only a handful of floes were detected, so we can see the full DataFrames here."
   ]
  },
  {
   "cell_type": "code",
   "execution_count": 22,
   "id": "41e8fc3a-a28b-4960-b257-7af1c702d75c",
   "metadata": {},
   "outputs": [
    {
     "data": {
      "text/html": [
       "<div><div style = \"float: left;\"><span>7×12 DataFrame</span></div><div style = \"clear: both;\"></div></div><div class = \"data-frame\" style = \"overflow-x: scroll;\"><table class = \"data-frame\" style = \"margin-bottom: 6px;\"><thead><tr class = \"header\"><th class = \"rowNumber\" style = \"font-weight: bold; text-align: right;\">Row</th><th style = \"text-align: left;\">area</th><th style = \"text-align: left;\">min_row</th><th style = \"text-align: left;\">min_col</th><th style = \"text-align: left;\">max_row</th><th style = \"text-align: left;\">max_col</th><th style = \"text-align: left;\">row_centroid</th><th style = \"text-align: left;\">col_centroid</th><th style = \"text-align: left;\">convex_area</th><th style = \"text-align: left;\">major_axis_length</th><th style = \"text-align: left;\">minor_axis_length</th><th style = \"text-align: left;\">orientation</th><th style = \"text-align: left;\">perimeter</th></tr><tr class = \"subheader headerLastRow\"><th class = \"rowNumber\" style = \"font-weight: bold; text-align: right;\"></th><th title = \"Float64\" style = \"text-align: left;\">Float64</th><th title = \"Int64\" style = \"text-align: left;\">Int64</th><th title = \"Int64\" style = \"text-align: left;\">Int64</th><th title = \"Int64\" style = \"text-align: left;\">Int64</th><th title = \"Int64\" style = \"text-align: left;\">Int64</th><th title = \"Int64\" style = \"text-align: left;\">Int64</th><th title = \"Int64\" style = \"text-align: left;\">Int64</th><th title = \"Float64\" style = \"text-align: left;\">Float64</th><th title = \"Float64\" style = \"text-align: left;\">Float64</th><th title = \"Float64\" style = \"text-align: left;\">Float64</th><th title = \"Float64\" style = \"text-align: left;\">Float64</th><th title = \"Float64\" style = \"text-align: left;\">Float64</th></tr></thead><tbody><tr><td class = \"rowNumber\" style = \"font-weight: bold; text-align: right;\">1</td><td style = \"text-align: right;\">312.0</td><td style = \"text-align: right;\">219</td><td style = \"text-align: right;\">17</td><td style = \"text-align: right;\">246</td><td style = \"text-align: right;\">34</td><td style = \"text-align: right;\">232</td><td style = \"text-align: right;\">26</td><td style = \"text-align: right;\">333.0</td><td style = \"text-align: right;\">30.0859</td><td style = \"text-align: right;\">13.497</td><td style = \"text-align: right;\">0.451561</td><td style = \"text-align: right;\">72.7696</td></tr><tr><td class = \"rowNumber\" style = \"font-weight: bold; text-align: right;\">2</td><td style = \"text-align: right;\">1737.0</td><td style = \"text-align: right;\">41</td><td style = \"text-align: right;\">61</td><td style = \"text-align: right;\">93</td><td style = \"text-align: right;\">110</td><td style = \"text-align: right;\">66</td><td style = \"text-align: right;\">85</td><td style = \"text-align: right;\">1895.0</td><td style = \"text-align: right;\">60.2734</td><td style = \"text-align: right;\">38.2385</td><td style = \"text-align: right;\">-0.610458</td><td style = \"text-align: right;\">173.924</td></tr><tr><td class = \"rowNumber\" style = \"font-weight: bold; text-align: right;\">3</td><td style = \"text-align: right;\">684.0</td><td style = \"text-align: right;\">285</td><td style = \"text-align: right;\">62</td><td style = \"text-align: right;\">319</td><td style = \"text-align: right;\">96</td><td style = \"text-align: right;\">302</td><td style = \"text-align: right;\">80</td><td style = \"text-align: right;\">736.0</td><td style = \"text-align: right;\">44.5632</td><td style = \"text-align: right;\">19.9069</td><td style = \"text-align: right;\">-0.757248</td><td style = \"text-align: right;\">110.811</td></tr><tr><td class = \"rowNumber\" style = \"font-weight: bold; text-align: right;\">4</td><td style = \"text-align: right;\">361.0</td><td style = \"text-align: right;\">353</td><td style = \"text-align: right;\">64</td><td style = \"text-align: right;\">388</td><td style = \"text-align: right;\">84</td><td style = \"text-align: right;\">371</td><td style = \"text-align: right;\">75</td><td style = \"text-align: right;\">445.0</td><td style = \"text-align: right;\">40.6058</td><td style = \"text-align: right;\">13.0476</td><td style = \"text-align: right;\">0.344686</td><td style = \"text-align: right;\">93.598</td></tr><tr><td class = \"rowNumber\" style = \"font-weight: bold; text-align: right;\">5</td><td style = \"text-align: right;\">309.0</td><td style = \"text-align: right;\">146</td><td style = \"text-align: right;\">74</td><td style = \"text-align: right;\">164</td><td style = \"text-align: right;\">100</td><td style = \"text-align: right;\">154</td><td style = \"text-align: right;\">88</td><td style = \"text-align: right;\">352.0</td><td style = \"text-align: right;\">25.7901</td><td style = \"text-align: right;\">16.5219</td><td style = \"text-align: right;\">1.49096</td><td style = \"text-align: right;\">73.3553</td></tr><tr><td class = \"rowNumber\" style = \"font-weight: bold; text-align: right;\">6</td><td style = \"text-align: right;\">458.0</td><td style = \"text-align: right;\">313</td><td style = \"text-align: right;\">181</td><td style = \"text-align: right;\">338</td><td style = \"text-align: right;\">213</td><td style = \"text-align: right;\">325</td><td style = \"text-align: right;\">197</td><td style = \"text-align: right;\">548.0</td><td style = \"text-align: right;\">30.6667</td><td style = \"text-align: right;\">21.7126</td><td style = \"text-align: right;\">-1.12713</td><td style = \"text-align: right;\">99.4975</td></tr><tr><td class = \"rowNumber\" style = \"font-weight: bold; text-align: right;\">7</td><td style = \"text-align: right;\">636.0</td><td style = \"text-align: right;\">240</td><td style = \"text-align: right;\">239</td><td style = \"text-align: right;\">283</td><td style = \"text-align: right;\">263</td><td style = \"text-align: right;\">262</td><td style = \"text-align: right;\">250</td><td style = \"text-align: right;\">723.0</td><td style = \"text-align: right;\">49.713</td><td style = \"text-align: right;\">17.2907</td><td style = \"text-align: right;\">-0.367014</td><td style = \"text-align: right;\">114.912</td></tr></tbody></table></div>"
      ],
      "text/latex": [
       "\\begin{tabular}{r|ccccccccc}\n",
       "\t& area & min\\_row & min\\_col & max\\_row & max\\_col & row\\_centroid & col\\_centroid & convex\\_area & \\\\\n",
       "\t\\hline\n",
       "\t& Float64 & Int64 & Int64 & Int64 & Int64 & Int64 & Int64 & Float64 & \\\\\n",
       "\t\\hline\n",
       "\t1 & 312.0 & 219 & 17 & 246 & 34 & 232 & 26 & 333.0 & $\\dots$ \\\\\n",
       "\t2 & 1737.0 & 41 & 61 & 93 & 110 & 66 & 85 & 1895.0 & $\\dots$ \\\\\n",
       "\t3 & 684.0 & 285 & 62 & 319 & 96 & 302 & 80 & 736.0 & $\\dots$ \\\\\n",
       "\t4 & 361.0 & 353 & 64 & 388 & 84 & 371 & 75 & 445.0 & $\\dots$ \\\\\n",
       "\t5 & 309.0 & 146 & 74 & 164 & 100 & 154 & 88 & 352.0 & $\\dots$ \\\\\n",
       "\t6 & 458.0 & 313 & 181 & 338 & 213 & 325 & 197 & 548.0 & $\\dots$ \\\\\n",
       "\t7 & 636.0 & 240 & 239 & 283 & 263 & 262 & 250 & 723.0 & $\\dots$ \\\\\n",
       "\\end{tabular}\n"
      ],
      "text/plain": [
       "\u001b[1m7×12 DataFrame\u001b[0m\n",
       "\u001b[1m Row \u001b[0m│\u001b[1m area    \u001b[0m\u001b[1m min_row \u001b[0m\u001b[1m min_col \u001b[0m\u001b[1m max_row \u001b[0m\u001b[1m max_col \u001b[0m\u001b[1m row_centroid \u001b[0m\u001b[1m col_centroid\u001b[0m ⋯\n",
       "     │\u001b[90m Float64 \u001b[0m\u001b[90m Int64   \u001b[0m\u001b[90m Int64   \u001b[0m\u001b[90m Int64   \u001b[0m\u001b[90m Int64   \u001b[0m\u001b[90m Int64        \u001b[0m\u001b[90m Int64       \u001b[0m ⋯\n",
       "─────┼──────────────────────────────────────────────────────────────────────────\n",
       "   1 │   312.0      219       17      246       34           232            26 ⋯\n",
       "   2 │  1737.0       41       61       93      110            66            85\n",
       "   3 │   684.0      285       62      319       96           302            80\n",
       "   4 │   361.0      353       64      388       84           371            75\n",
       "   5 │   309.0      146       74      164      100           154            88 ⋯\n",
       "   6 │   458.0      313      181      338      213           325           197\n",
       "   7 │   636.0      240      239      283      263           262           250\n",
       "\u001b[36m                                                               5 columns omitted\u001b[0m"
      ]
     },
     "execution_count": 22,
     "metadata": {},
     "output_type": "execute_result"
    }
   ],
   "source": [
    "floe_props[1]"
   ]
  },
  {
   "cell_type": "code",
   "execution_count": 23,
   "id": "7cac7d44-fc2d-46e1-bbd7-1fbc97f8d826",
   "metadata": {},
   "outputs": [
    {
     "data": {
      "text/html": [
       "<div><div style = \"float: left;\"><span>5×12 DataFrame</span></div><div style = \"clear: both;\"></div></div><div class = \"data-frame\" style = \"overflow-x: scroll;\"><table class = \"data-frame\" style = \"margin-bottom: 6px;\"><thead><tr class = \"header\"><th class = \"rowNumber\" style = \"font-weight: bold; text-align: right;\">Row</th><th style = \"text-align: left;\">area</th><th style = \"text-align: left;\">min_row</th><th style = \"text-align: left;\">min_col</th><th style = \"text-align: left;\">max_row</th><th style = \"text-align: left;\">max_col</th><th style = \"text-align: left;\">row_centroid</th><th style = \"text-align: left;\">col_centroid</th><th style = \"text-align: left;\">convex_area</th><th style = \"text-align: left;\">major_axis_length</th><th style = \"text-align: left;\">minor_axis_length</th><th style = \"text-align: left;\">orientation</th><th style = \"text-align: left;\">perimeter</th></tr><tr class = \"subheader headerLastRow\"><th class = \"rowNumber\" style = \"font-weight: bold; text-align: right;\"></th><th title = \"Float64\" style = \"text-align: left;\">Float64</th><th title = \"Int64\" style = \"text-align: left;\">Int64</th><th title = \"Int64\" style = \"text-align: left;\">Int64</th><th title = \"Int64\" style = \"text-align: left;\">Int64</th><th title = \"Int64\" style = \"text-align: left;\">Int64</th><th title = \"Int64\" style = \"text-align: left;\">Int64</th><th title = \"Int64\" style = \"text-align: left;\">Int64</th><th title = \"Float64\" style = \"text-align: left;\">Float64</th><th title = \"Float64\" style = \"text-align: left;\">Float64</th><th title = \"Float64\" style = \"text-align: left;\">Float64</th><th title = \"Float64\" style = \"text-align: left;\">Float64</th><th title = \"Float64\" style = \"text-align: left;\">Float64</th></tr></thead><tbody><tr><td class = \"rowNumber\" style = \"font-weight: bold; text-align: right;\">1</td><td style = \"text-align: right;\">724.0</td><td style = \"text-align: right;\">285</td><td style = \"text-align: right;\">61</td><td style = \"text-align: right;\">319</td><td style = \"text-align: right;\">100</td><td style = \"text-align: right;\">302</td><td style = \"text-align: right;\">80</td><td style = \"text-align: right;\">795.0</td><td style = \"text-align: right;\">48.1073</td><td style = \"text-align: right;\">19.7279</td><td style = \"text-align: right;\">-0.810733</td><td style = \"text-align: right;\">119.054</td></tr><tr><td class = \"rowNumber\" style = \"font-weight: bold; text-align: right;\">2</td><td style = \"text-align: right;\">1706.0</td><td style = \"text-align: right;\">39</td><td style = \"text-align: right;\">63</td><td style = \"text-align: right;\">92</td><td style = \"text-align: right;\">110</td><td style = \"text-align: right;\">64</td><td style = \"text-align: right;\">84</td><td style = \"text-align: right;\">1869.0</td><td style = \"text-align: right;\">58.3102</td><td style = \"text-align: right;\">38.8515</td><td style = \"text-align: right;\">-0.525304</td><td style = \"text-align: right;\">175.095</td></tr><tr><td class = \"rowNumber\" style = \"font-weight: bold; text-align: right;\">3</td><td style = \"text-align: right;\">329.0</td><td style = \"text-align: right;\">353</td><td style = \"text-align: right;\">63</td><td style = \"text-align: right;\">379</td><td style = \"text-align: right;\">81</td><td style = \"text-align: right;\">367</td><td style = \"text-align: right;\">72</td><td style = \"text-align: right;\">357.0</td><td style = \"text-align: right;\">26.701</td><td style = \"text-align: right;\">17.0967</td><td style = \"text-align: right;\">0.231043</td><td style = \"text-align: right;\">73.9411</td></tr><tr><td class = \"rowNumber\" style = \"font-weight: bold; text-align: right;\">4</td><td style = \"text-align: right;\">629.0</td><td style = \"text-align: right;\">241</td><td style = \"text-align: right;\">238</td><td style = \"text-align: right;\">284</td><td style = \"text-align: right;\">263</td><td style = \"text-align: right;\">262</td><td style = \"text-align: right;\">250</td><td style = \"text-align: right;\">736.0</td><td style = \"text-align: right;\">49.9523</td><td style = \"text-align: right;\">17.6437</td><td style = \"text-align: right;\">-0.36004</td><td style = \"text-align: right;\">116.569</td></tr><tr><td class = \"rowNumber\" style = \"font-weight: bold; text-align: right;\">5</td><td style = \"text-align: right;\">342.0</td><td style = \"text-align: right;\">364</td><td style = \"text-align: right;\">253</td><td style = \"text-align: right;\">381</td><td style = \"text-align: right;\">286</td><td style = \"text-align: right;\">370</td><td style = \"text-align: right;\">271</td><td style = \"text-align: right;\">433.0</td><td style = \"text-align: right;\">38.2794</td><td style = \"text-align: right;\">14.2279</td><td style = \"text-align: right;\">1.38988</td><td style = \"text-align: right;\">90.5269</td></tr></tbody></table></div>"
      ],
      "text/latex": [
       "\\begin{tabular}{r|ccccccccc}\n",
       "\t& area & min\\_row & min\\_col & max\\_row & max\\_col & row\\_centroid & col\\_centroid & convex\\_area & \\\\\n",
       "\t\\hline\n",
       "\t& Float64 & Int64 & Int64 & Int64 & Int64 & Int64 & Int64 & Float64 & \\\\\n",
       "\t\\hline\n",
       "\t1 & 724.0 & 285 & 61 & 319 & 100 & 302 & 80 & 795.0 & $\\dots$ \\\\\n",
       "\t2 & 1706.0 & 39 & 63 & 92 & 110 & 64 & 84 & 1869.0 & $\\dots$ \\\\\n",
       "\t3 & 329.0 & 353 & 63 & 379 & 81 & 367 & 72 & 357.0 & $\\dots$ \\\\\n",
       "\t4 & 629.0 & 241 & 238 & 284 & 263 & 262 & 250 & 736.0 & $\\dots$ \\\\\n",
       "\t5 & 342.0 & 364 & 253 & 381 & 286 & 370 & 271 & 433.0 & $\\dots$ \\\\\n",
       "\\end{tabular}\n"
      ],
      "text/plain": [
       "\u001b[1m5×12 DataFrame\u001b[0m\n",
       "\u001b[1m Row \u001b[0m│\u001b[1m area    \u001b[0m\u001b[1m min_row \u001b[0m\u001b[1m min_col \u001b[0m\u001b[1m max_row \u001b[0m\u001b[1m max_col \u001b[0m\u001b[1m row_centroid \u001b[0m\u001b[1m col_centroid\u001b[0m ⋯\n",
       "     │\u001b[90m Float64 \u001b[0m\u001b[90m Int64   \u001b[0m\u001b[90m Int64   \u001b[0m\u001b[90m Int64   \u001b[0m\u001b[90m Int64   \u001b[0m\u001b[90m Int64        \u001b[0m\u001b[90m Int64       \u001b[0m ⋯\n",
       "─────┼──────────────────────────────────────────────────────────────────────────\n",
       "   1 │   724.0      285       61      319      100           302            80 ⋯\n",
       "   2 │  1706.0       39       63       92      110            64            84\n",
       "   3 │   329.0      353       63      379       81           367            72\n",
       "   4 │   629.0      241      238      284      263           262           250\n",
       "   5 │   342.0      364      253      381      286           370           271 ⋯\n",
       "\u001b[36m                                                               5 columns omitted\u001b[0m"
      ]
     },
     "execution_count": 23,
     "metadata": {},
     "output_type": "execute_result"
    }
   ],
   "source": [
    "floe_props[2]"
   ]
  },
  {
   "cell_type": "markdown",
   "id": "0d14f1ee-9515-40a5-9f42-10d67e3c9d80",
   "metadata": {},
   "source": [
    "The information from SOIT is saved in the passtimes object, a DateTime vector with length equal to the number of images."
   ]
  },
  {
   "cell_type": "code",
   "execution_count": 25,
   "id": "f7f90506-d4be-456c-b104-a315d746e8d7",
   "metadata": {},
   "outputs": [
    {
     "data": {
      "text/plain": [
       "2-element Vector{DateTime}:\n",
       " 2007-06-05T16:12:22\n",
       " 2007-06-05T16:32:38"
      ]
     },
     "execution_count": 25,
     "metadata": {},
     "output_type": "execute_result"
    }
   ],
   "source": [
    "passtimes"
   ]
  },
  {
   "cell_type": "markdown",
   "id": "835ffb76-6b64-425c-b511-9b580d1a3d94",
   "metadata": {},
   "source": [
    "Next, we look at the segmented floes. As with the others, the object has an entry for each of the two analyzed images. One thing that we can see is that there are more features in these images than in the floe props; I believe that that is a function of the minarea and maxarea settings trimming the extracted features. The floe_props column entries allow you to select individual objects if wanted based on the min/max row and column information."
   ]
  },
  {
   "cell_type": "code",
   "execution_count": 31,
   "id": "e015e3d6-2f86-49b1-a69e-d1dc78da1c4d",
   "metadata": {},
   "outputs": [
    {
     "data": {
      "image/png": "[encoded data removed]",
      "text/html": [
       "<img src=\"data:image/png;base64,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\">"
      ],
      "text/plain": [
       "391×391 Array{Gray{Bool},2} with eltype Gray{Bool}:\n",
       " Gray{Bool}(false)  Gray{Bool}(false)  …  Gray{Bool}(false)\n",
       " Gray{Bool}(false)  Gray{Bool}(false)     Gray{Bool}(false)\n",
       " Gray{Bool}(false)  Gray{Bool}(false)     Gray{Bool}(false)\n",
       " Gray{Bool}(false)  Gray{Bool}(false)     Gray{Bool}(false)\n",
       " Gray{Bool}(false)  Gray{Bool}(false)     Gray{Bool}(false)\n",
       " Gray{Bool}(false)  Gray{Bool}(false)  …  Gray{Bool}(false)\n",
       " Gray{Bool}(false)  Gray{Bool}(false)     Gray{Bool}(false)\n",
       " Gray{Bool}(false)  Gray{Bool}(false)     Gray{Bool}(false)\n",
       " Gray{Bool}(false)  Gray{Bool}(false)     Gray{Bool}(false)\n",
       " Gray{Bool}(false)  Gray{Bool}(false)     Gray{Bool}(false)\n",
       " Gray{Bool}(false)  Gray{Bool}(false)  …  Gray{Bool}(false)\n",
       " Gray{Bool}(false)  Gray{Bool}(false)     Gray{Bool}(false)\n",
       " Gray{Bool}(false)  Gray{Bool}(false)     Gray{Bool}(false)\n",
       " ⋮                                     ⋱  ⋮\n",
       " Gray{Bool}(false)  Gray{Bool}(false)     Gray{Bool}(false)\n",
       " Gray{Bool}(false)  Gray{Bool}(false)  …  Gray{Bool}(false)\n",
       " Gray{Bool}(false)  Gray{Bool}(false)     Gray{Bool}(false)\n",
       " Gray{Bool}(false)  Gray{Bool}(false)     Gray{Bool}(false)\n",
       " Gray{Bool}(false)  Gray{Bool}(false)     Gray{Bool}(false)\n",
       " Gray{Bool}(false)  Gray{Bool}(false)     Gray{Bool}(false)\n",
       " Gray{Bool}(false)  Gray{Bool}(false)  …  Gray{Bool}(false)\n",
       " Gray{Bool}(false)  Gray{Bool}(false)     Gray{Bool}(false)\n",
       " Gray{Bool}(false)  Gray{Bool}(false)     Gray{Bool}(false)\n",
       " Gray{Bool}(false)  Gray{Bool}(false)     Gray{Bool}(false)\n",
       " Gray{Bool}(false)  Gray{Bool}(false)     Gray{Bool}(false)\n",
       " Gray{Bool}(false)  Gray{Bool}(false)  …  Gray{Bool}(false)"
      ]
     },
     "execution_count": 31,
     "metadata": {},
     "output_type": "execute_result"
    }
   ],
   "source": [
    "imshow(segmented_floes[1])"
   ]
  },
  {
   "cell_type": "code",
   "execution_count": 32,
   "id": "a2537040-e9dd-4cf6-8a0e-e5c55571d2ca",
   "metadata": {},
   "outputs": [
    {
     "data": {
      "image/png": "[encoded data removed]",
      "text/html": [
       "<img src=\"data:image/png;base64,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\">"
      ],
      "text/plain": [
       "391×391 Array{Gray{Bool},2} with eltype Gray{Bool}:\n",
       " Gray{Bool}(false)  Gray{Bool}(false)  …  Gray{Bool}(false)\n",
       " Gray{Bool}(false)  Gray{Bool}(false)     Gray{Bool}(false)\n",
       " Gray{Bool}(false)  Gray{Bool}(false)     Gray{Bool}(false)\n",
       " Gray{Bool}(false)  Gray{Bool}(false)     Gray{Bool}(false)\n",
       " Gray{Bool}(false)  Gray{Bool}(false)     Gray{Bool}(false)\n",
       " Gray{Bool}(false)  Gray{Bool}(false)  …  Gray{Bool}(false)\n",
       " Gray{Bool}(false)  Gray{Bool}(false)     Gray{Bool}(false)\n",
       " Gray{Bool}(false)  Gray{Bool}(false)     Gray{Bool}(false)\n",
       " Gray{Bool}(false)  Gray{Bool}(false)     Gray{Bool}(false)\n",
       " Gray{Bool}(false)  Gray{Bool}(false)     Gray{Bool}(false)\n",
       " Gray{Bool}(false)  Gray{Bool}(false)  …  Gray{Bool}(false)\n",
       " Gray{Bool}(false)  Gray{Bool}(false)     Gray{Bool}(false)\n",
       " Gray{Bool}(false)  Gray{Bool}(false)     Gray{Bool}(false)\n",
       " ⋮                                     ⋱  ⋮\n",
       " Gray{Bool}(false)  Gray{Bool}(false)     Gray{Bool}(false)\n",
       " Gray{Bool}(false)  Gray{Bool}(false)  …  Gray{Bool}(false)\n",
       " Gray{Bool}(false)  Gray{Bool}(false)     Gray{Bool}(false)\n",
       " Gray{Bool}(false)  Gray{Bool}(false)     Gray{Bool}(false)\n",
       " Gray{Bool}(false)  Gray{Bool}(false)     Gray{Bool}(false)\n",
       " Gray{Bool}(false)  Gray{Bool}(false)     Gray{Bool}(false)\n",
       " Gray{Bool}(false)  Gray{Bool}(false)  …  Gray{Bool}(false)\n",
       " Gray{Bool}(false)  Gray{Bool}(false)     Gray{Bool}(false)\n",
       " Gray{Bool}(false)  Gray{Bool}(false)     Gray{Bool}(false)\n",
       " Gray{Bool}(false)  Gray{Bool}(false)     Gray{Bool}(false)\n",
       " Gray{Bool}(false)  Gray{Bool}(false)     Gray{Bool}(false)\n",
       " Gray{Bool}(false)  Gray{Bool}(false)  …  Gray{Bool}(false)"
      ]
     },
     "execution_count": 32,
     "metadata": {},
     "output_type": "execute_result"
    }
   ],
   "source": [
    "imshow(segmented_floes[2])"
   ]
  },
  {
   "cell_type": "markdown",
   "id": "70be4256-dcc5-42fc-858a-90193306a48a",
   "metadata": {},
   "source": [
    "The time in seconds between each image is saved in `timedeltas`. Note that since this image has artifacts from overlapping images, it could well be the case that the real time delta in different regions of the image could be quite different."
   ]
  },
  {
   "cell_type": "code",
   "execution_count": 33,
   "id": "0fbb9d7a-0585-417d-8dc9-cfa56ac43f88",
   "metadata": {},
   "outputs": [
    {
     "data": {
      "text/plain": [
       "1-element Vector{Float64}:\n",
       " 20.0"
      ]
     },
     "execution_count": 33,
     "metadata": {},
     "output_type": "execute_result"
    }
   ],
   "source": [
    "timedeltas"
   ]
  },
  {
   "cell_type": "markdown",
   "id": "051c3823-78db-4c79-b09e-df009471f026",
   "metadata": {},
   "source": [
    "The `labeled_floes.jls` object contains all the floes that were tracked between the images, and given an integer label. There are some questions about how to handle labeling and reporting trajectories for longer runs, but for now we have this. It shows that only 3 floes were tracked from one image to the next. I believe by this step, the data has already been transformed from pixel units to physical units. I'll check that in the documentation."
   ]
  },
  {
   "cell_type": "code",
   "execution_count": 34,
   "id": "9c13f011-7678-4e4e-ac94-a08065ae0377",
   "metadata": {},
   "outputs": [
    {
     "data": {
      "text/html": [
       "<div><div style = \"float: left;\"><span>6×14 DataFrame</span></div><div style = \"clear: both;\"></div></div><div class = \"data-frame\" style = \"overflow-x: scroll;\"><table class = \"data-frame\" style = \"margin-bottom: 6px;\"><thead><tr class = \"header\"><th class = \"rowNumber\" style = \"font-weight: bold; text-align: right;\">Row</th><th style = \"text-align: left;\">ID</th><th style = \"text-align: left;\">passtime</th><th style = \"text-align: left;\">area</th><th style = \"text-align: left;\">convex_area</th><th style = \"text-align: left;\">major_axis_length</th><th style = \"text-align: left;\">minor_axis_length</th><th style = \"text-align: left;\">orientation</th><th style = \"text-align: left;\">perimeter</th><th style = \"text-align: left;\">latitude</th><th style = \"text-align: left;\">longitude</th><th style = \"text-align: left;\">x</th><th style = \"text-align: left;\">y</th><th style = \"text-align: left;\">area_mismatch</th><th style = \"text-align: left;\">corr</th></tr><tr class = \"subheader headerLastRow\"><th class = \"rowNumber\" style = \"font-weight: bold; text-align: right;\"></th><th title = \"Int64\" style = \"text-align: left;\">Int64</th><th title = \"DateTime\" style = \"text-align: left;\">DateTime</th><th title = \"Float64\" style = \"text-align: left;\">Float64</th><th title = \"Float64\" style = \"text-align: left;\">Float64</th><th title = \"Float64\" style = \"text-align: left;\">Float64</th><th title = \"Float64\" style = \"text-align: left;\">Float64</th><th title = \"Float64\" style = \"text-align: left;\">Float64</th><th title = \"Float64\" style = \"text-align: left;\">Float64</th><th title = \"Float64\" style = \"text-align: left;\">Float64</th><th title = \"Float64\" style = \"text-align: left;\">Float64</th><th title = \"Float64\" style = \"text-align: left;\">Float64</th><th title = \"Float64\" style = \"text-align: left;\">Float64</th><th title = \"Union{Missing, Float64}\" style = \"text-align: left;\">Float64?</th><th title = \"Union{Missing, Float64}\" style = \"text-align: left;\">Float64?</th></tr></thead><tbody><tr><td class = \"rowNumber\" style = \"font-weight: bold; text-align: right;\">1</td><td style = \"text-align: right;\">1</td><td style = \"text-align: left;\">2007-06-05T16:12:22</td><td style = \"text-align: right;\">113.618</td><td style = \"text-align: right;\">123.953</td><td style = \"text-align: right;\">15.4152</td><td style = \"text-align: right;\">9.77966</td><td style = \"text-align: right;\">-0.610458</td><td style = \"text-align: right;\">44.4818</td><td style = \"text-align: right;\">74.8924</td><td style = \"text-align: right;\">-66.2229</td><td style = \"text-align: right;\">-1.52925e6</td><td style = \"text-align: right;\">-5.90889e5</td><td style = \"text-align: right;\">0.0</td><td style = \"text-align: right;\">0.993546</td></tr><tr><td class = \"rowNumber\" style = \"font-weight: bold; text-align: right;\">2</td><td style = \"text-align: right;\">1</td><td style = \"text-align: left;\">2007-06-05T16:32:38</td><td style = \"text-align: right;\">111.59</td><td style = \"text-align: right;\">122.252</td><td style = \"text-align: right;\">14.9131</td><td style = \"text-align: right;\">9.93644</td><td style = \"text-align: right;\">-0.525304</td><td style = \"text-align: right;\">44.7814</td><td style = \"text-align: right;\">74.8929</td><td style = \"text-align: right;\">-66.2427</td><td style = \"text-align: right;\">-1.52874e6</td><td style = \"text-align: right;\">-5.91145e5</td><td style = \"font-style: italic; text-align: right;\">missing</td><td style = \"font-style: italic; text-align: right;\">missing</td></tr><tr><td class = \"rowNumber\" style = \"font-weight: bold; text-align: right;\">3</td><td style = \"text-align: right;\">2</td><td style = \"text-align: left;\">2007-06-05T16:12:22</td><td style = \"text-align: right;\">41.601</td><td style = \"text-align: right;\">47.2917</td><td style = \"text-align: right;\">12.7143</td><td style = \"text-align: right;\">4.42218</td><td style = \"text-align: right;\">-0.367014</td><td style = \"text-align: right;\">29.3892</td><td style = \"text-align: right;\">74.6897</td><td style = \"text-align: right;\">-64.0927</td><td style = \"text-align: right;\">-1.57938e6</td><td style = \"text-align: right;\">-5.48689e5</td><td style = \"text-align: right;\">0.0</td><td style = \"text-align: right;\">0.999245</td></tr><tr><td class = \"rowNumber\" style = \"font-weight: bold; text-align: right;\">4</td><td style = \"text-align: right;\">2</td><td style = \"text-align: left;\">2007-06-05T16:32:38</td><td style = \"text-align: right;\">41.1431</td><td style = \"text-align: right;\">48.142</td><td style = \"text-align: right;\">12.7755</td><td style = \"text-align: right;\">4.51247</td><td style = \"text-align: right;\">-0.36004</td><td style = \"text-align: right;\">29.8129</td><td style = \"text-align: right;\">74.6897</td><td style = \"text-align: right;\">-64.0927</td><td style = \"text-align: right;\">-1.57938e6</td><td style = \"text-align: right;\">-5.48689e5</td><td style = \"font-style: italic; text-align: right;\">missing</td><td style = \"font-style: italic; text-align: right;\">missing</td></tr><tr><td class = \"rowNumber\" style = \"font-weight: bold; text-align: right;\">5</td><td style = \"text-align: right;\">3</td><td style = \"text-align: left;\">2007-06-05T16:12:22</td><td style = \"text-align: right;\">44.7407</td><td style = \"text-align: right;\">48.142</td><td style = \"text-align: right;\">11.3972</td><td style = \"text-align: right;\">5.09128</td><td style = \"text-align: right;\">-0.757248</td><td style = \"text-align: right;\">28.3405</td><td style = \"text-align: right;\">75.093</td><td style = \"text-align: right;\">-64.2534</td><td style = \"text-align: right;\">-1.58961e6</td><td style = \"text-align: right;\">-5.92168e5</td><td style = \"text-align: right;\">0.0</td><td style = \"text-align: right;\">0.985361</td></tr><tr><td class = \"rowNumber\" style = \"font-weight: bold; text-align: right;\">6</td><td style = \"text-align: right;\">3</td><td style = \"text-align: left;\">2007-06-05T16:32:38</td><td style = \"text-align: right;\">47.3571</td><td style = \"text-align: right;\">52.0012</td><td style = \"text-align: right;\">12.3037</td><td style = \"text-align: right;\">5.04551</td><td style = \"text-align: right;\">-0.810733</td><td style = \"text-align: right;\">30.4485</td><td style = \"text-align: right;\">75.093</td><td style = \"text-align: right;\">-64.2534</td><td style = \"text-align: right;\">-1.58961e6</td><td style = \"text-align: right;\">-5.92168e5</td><td style = \"font-style: italic; text-align: right;\">missing</td><td style = \"font-style: italic; text-align: right;\">missing</td></tr></tbody></table></div>"
      ],
      "text/latex": [
       "\\begin{tabular}{r|ccccccc}\n",
       "\t& ID & passtime & area & convex\\_area & major\\_axis\\_length & minor\\_axis\\_length & \\\\\n",
       "\t\\hline\n",
       "\t& Int64 & DateTime & Float64 & Float64 & Float64 & Float64 & \\\\\n",
       "\t\\hline\n",
       "\t1 & 1 & 2007-06-05T16:12:22 & 113.618 & 123.953 & 15.4152 & 9.77966 & $\\dots$ \\\\\n",
       "\t2 & 1 & 2007-06-05T16:32:38 & 111.59 & 122.252 & 14.9131 & 9.93644 & $\\dots$ \\\\\n",
       "\t3 & 2 & 2007-06-05T16:12:22 & 41.601 & 47.2917 & 12.7143 & 4.42218 & $\\dots$ \\\\\n",
       "\t4 & 2 & 2007-06-05T16:32:38 & 41.1431 & 48.142 & 12.7755 & 4.51247 & $\\dots$ \\\\\n",
       "\t5 & 3 & 2007-06-05T16:12:22 & 44.7407 & 48.142 & 11.3972 & 5.09128 & $\\dots$ \\\\\n",
       "\t6 & 3 & 2007-06-05T16:32:38 & 47.3571 & 52.0012 & 12.3037 & 5.04551 & $\\dots$ \\\\\n",
       "\\end{tabular}\n"
      ],
      "text/plain": [
       "\u001b[1m6×14 DataFrame\u001b[0m\n",
       "\u001b[1m Row \u001b[0m│\u001b[1m ID    \u001b[0m\u001b[1m passtime            \u001b[0m\u001b[1m area     \u001b[0m\u001b[1m convex_area \u001b[0m\u001b[1m major_axis_length \u001b[0m\u001b[1m m\u001b[0m ⋯\n",
       "     │\u001b[90m Int64 \u001b[0m\u001b[90m DateTime            \u001b[0m\u001b[90m Float64  \u001b[0m\u001b[90m Float64     \u001b[0m\u001b[90m Float64           \u001b[0m\u001b[90m F\u001b[0m ⋯\n",
       "─────┼──────────────────────────────────────────────────────────────────────────\n",
       "   1 │     1  2007-06-05T16:12:22  113.618      123.953             15.4152    ⋯\n",
       "   2 │     1  2007-06-05T16:32:38  111.59       122.252             14.9131\n",
       "   3 │     2  2007-06-05T16:12:22   41.601       47.2917            12.7143\n",
       "   4 │     2  2007-06-05T16:32:38   41.1431      48.142             12.7755\n",
       "   5 │     3  2007-06-05T16:12:22   44.7407      48.142             11.3972    ⋯\n",
       "   6 │     3  2007-06-05T16:32:38   47.3571      52.0012            12.3037\n",
       "\u001b[36m                                                               9 columns omitted\u001b[0m"
      ]
     },
     "execution_count": 34,
     "metadata": {},
     "output_type": "execute_result"
    }
   ],
   "source": [
    "tracked_floes"
   ]
  },
  {
   "cell_type": "code",
   "execution_count": null,
   "id": "bb61d1be-17ec-4708-a245-a487a8582750",
   "metadata": {},
   "outputs": [],
   "source": []
  }
 ],
 "metadata": {
  "kernelspec": {
   "display_name": "Julia 1.9.2",
   "language": "julia",
   "name": "julia-1.9"
  },
  "language_info": {
   "file_extension": ".jl",
   "mimetype": "application/julia",
   "name": "julia",
   "version": "1.9.2"
  }
 },
 "nbformat": 4,
 "nbformat_minor": 5
}
