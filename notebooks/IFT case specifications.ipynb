{
 "cells": [
  {
   "cell_type": "markdown",
   "id": "28d6babf-bd93-43ed-b65c-e52fe6891d27",
   "metadata": {},
   "source": [
    "The IFT-pipeline lets us set up runs using a specification file. Here we set up a specification file for the 100 km Baffin Bay. This is a temporary solution - eventually I aim to have this data all put together in the sample selection notebook."
   ]
  },
  {
   "cell_type": "code",
   "execution_count": 5,
   "id": "a7c0c1a2-0bc5-4407-b1fe-8bffc4c39bdf",
   "metadata": {},
   "outputs": [],
   "source": [
    "import pandas as pd\n",
    "import pyproj\n",
    "import numpy as np\n",
    "\n",
    "overview = pd.read_csv('../data/cca_cases_overview.csv')\n",
    "overview = overview.loc[overview.satellite == 'aqua'] # Don't need duplicates\n",
    "overview['location'] = ''\n",
    "overview.rename({'start_date': 'startdate'}, axis=1, inplace=True)\n",
    "\n",
    "def draw_box(center_lon, center_lat, length_x, length_y, return_coords='stere'):\n",
    "    \"\"\"Return the corner coordinates for a box centered at center_lon, center_lat\n",
    "    with side lengths given by length_x and length_y.\"\"\"\n",
    "    \n",
    "    data = find_box(center_lon, center_lat, length_x, length_y, return_coords)\n",
    "\n",
    "    if return_coords=='stere':\n",
    "        return([data['left_x'], data['left_x'], data['right_x'], data['right_x'], data['left_x']],\n",
    "               [data['lower_y'], data['top_y'], data['top_y'], data['lower_y'], data['lower_y']])\n",
    "    else:\n",
    "        return (data[['lower_left_lon', 'top_left_lon', 'top_right_lon', 'lower_right_lon', 'lower_left_lon']],\n",
    "                data[['lower_left_lat', 'top_left_lat', 'top_right_lat', 'lower_right_lat', 'lower_left_lat']])\n",
    "\n",
    "def find_box(center_lon, center_lat, length_x, length_y, return_coords='stere'):\n",
    "    \"\"\"Find the coordinates of each corner for a box centered at center_lon, center_lat with\n",
    "    side lengths in meters specified by length_x and length_y. If return_coords is stere, then\n",
    "    use the NSIDC polar stereographic, otherwise return latitude and longitude.\"\"\"\n",
    "    \n",
    "    crs0 = pyproj.CRS('WGS84')\n",
    "    crs1 = pyproj.CRS('epsg:3413')\n",
    "    transformer_xy = pyproj.Transformer.from_crs(crs0, crs_to=crs1, always_xy=True)\n",
    "    transformer_ll = pyproj.Transformer.from_crs(crs1, crs_to=crs0, always_xy=True)\n",
    "    center_x, center_y = transformer_xy.transform(center_lon, center_lat)\n",
    "    dx = length_x/2\n",
    "    dy = length_y/2\n",
    "    left = center_x - dx\n",
    "    right = center_x + dx\n",
    "    top = center_y + dy\n",
    "    bottom = center_y - dy\n",
    "    \n",
    "    topleft_lon, topleft_lat = transformer_ll.transform(left, top)\n",
    "    topright_lon, topright_lat = transformer_ll.transform(right, top)\n",
    "    bottomleft_lon, bottomleft_lat = transformer_ll.transform(left, bottom)\n",
    "    bottomright_lon, bottomright_lat = transformer_ll.transform(right, bottom)\n",
    "    \n",
    "    return pd.Series([topleft_lat, topright_lat, bottomleft_lat, bottomright_lat,\n",
    "                      topleft_lon, topright_lon, bottomleft_lon, bottomright_lon,\n",
    "                      left, right, bottom, top],\n",
    "                      index=['top_left_lat', 'top_right_lat', 'lower_left_lat', 'lower_right_lat',\n",
    "                             'top_left_lon', 'top_right_lon', 'lower_left_lon', 'lower_right_lon',\n",
    "                             'left_x', 'right_x', 'lower_y', 'top_y']).round(5)\n",
    "\n",
    "# Add columns for bounding box coordinates to the locations\n",
    "# These will be used in defining the case boundaries.\n",
    "new_columns = ['top_left_lat', 'top_left_lon', 'lower_left_lat', 'lower_left_lon',\n",
    "               'top_right_lat', 'top_right_lon', 'lower_right_lat', 'lower_right_lon',\n",
    "               'left_x', 'right_x', 'lower_y', 'top_y']\n",
    "for c in new_columns:\n",
    "    overview[c] = np.nan\n",
    "overview['dx'] = np.nan\n",
    "overview['dy'] = np.nan\n",
    "for idx in overview.index:\n",
    "    lon = overview.loc[idx, 'center_lon']\n",
    "    lat = overview.loc[idx, 'center_lat']\n",
    "    xlength = 100e3\n",
    "    ylength = 100e3\n",
    "    corner_coords = find_box(center_lon=lon,\n",
    "                             center_lat=lat,\n",
    "                             length_x=xlength,\n",
    "                             length_y=ylength)\n",
    "    for c in new_columns:\n",
    "        overview.loc[idx, c] = corner_coords[c]\n",
    "overview['dx'] = 100\n",
    "overview['dy'] = 100"
   ]
  },
  {
   "cell_type": "code",
   "execution_count": 6,
   "id": "4700e01e-235f-404f-ae86-5692c95c9005",
   "metadata": {},
   "outputs": [],
   "source": [
    "\n",
    "end_dates = [(pd.to_datetime(x) + pd.to_timedelta('1D')).strftime('%Y-%m-%d') for x in overview.startdate]\n",
    "overview['enddate'] = end_dates\n"
   ]
  },
  {
   "cell_type": "code",
   "execution_count": 7,
   "id": "99a07f36-de4b-49f3-9cd3-7b19a62632ff",
   "metadata": {},
   "outputs": [],
   "source": [
    "for idx in overview.index:\n",
    "    dx = overview.loc[idx, 'dx']\n",
    "    dy = overview.loc[idx, 'dy']\n",
    "    imsize = str(dx) + 'km_by_' + str(dy) + 'km'\n",
    "    region = overview.loc[idx, 'region']\n",
    "    startdate = overview.loc[idx, 'startdate']\n",
    "    enddate = overview.loc[idx, 'enddate']\n",
    "    case_id = '-'.join([region, imsize, startdate.replace('-', ''), enddate.replace('-', '')])\n",
    "    overview.loc[idx, 'location'] = case_id"
   ]
  },
  {
   "cell_type": "code",
   "execution_count": 14,
   "id": "67584b06-c7ee-4f51-b81a-ba65595ebf88",
   "metadata": {},
   "outputs": [],
   "source": [
    "columns = ['location', 'center_lat', 'center_lon', 'top_left_lat', 'top_left_lon',\n",
    "           'lower_right_lat', 'lower_right_lon', 'left_x', 'right_x', 'lower_y',\n",
    "           'top_y', 'startdate', 'enddate']\n",
    "for region, group in overview.groupby('region'):\n",
    "    overview.loc[overview.region==region, columns].to_csv('../data/location_specifications/' + region + '_100km_cases.csv', index=False)"
   ]
  },
  {
   "cell_type": "code",
   "execution_count": 42,
   "id": "36c2527d-ec48-4ccf-8436-9ed809009ebb",
   "metadata": {},
   "outputs": [],
   "source": [
    "! mkdir ../data/location_specifications/"
   ]
  },
  {
   "cell_type": "code",
   "execution_count": 13,
   "id": "369c1def-8057-42fd-8dfe-0d79d862ca91",
   "metadata": {},
   "outputs": [
    {
     "data": {
      "text/plain": [
       "(21, 13)"
      ]
     },
     "execution_count": 13,
     "metadata": {},
     "output_type": "execute_result"
    }
   ],
   "source": [
    "overview.loc[overview.region==region, columns].shape"
   ]
  },
  {
   "cell_type": "code",
   "execution_count": null,
   "id": "dc183a83-2bc8-4072-b4cb-8b076318c11b",
   "metadata": {},
   "outputs": [],
   "source": []
  },
  {
   "cell_type": "code",
   "execution_count": null,
   "id": "b21cbe70-469e-4653-a9f2-6bc2eb4d9752",
   "metadata": {},
   "outputs": [],
   "source": []
  }
 ],
 "metadata": {
  "kernelspec": {
   "display_name": "Python 3 (ipykernel)",
   "language": "python",
   "name": "python3"
  },
  "language_info": {
   "codemirror_mode": {
    "name": "ipython",
    "version": 3
   },
   "file_extension": ".py",
   "mimetype": "text/x-python",
   "name": "python",
   "nbconvert_exporter": "python",
   "pygments_lexer": "ipython3",
   "version": "3.9.13"
  }
 },
 "nbformat": 4,
 "nbformat_minor": 5
}
