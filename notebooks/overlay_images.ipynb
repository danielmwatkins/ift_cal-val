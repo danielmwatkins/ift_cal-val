{
 "cells": [
  {
   "cell_type": "markdown",
   "id": "e7198f13-126c-4177-bd38-bef10fe33aa4",
   "metadata": {},
   "source": [
    "# Overlaying the segmented images on the truecolor images\n"
   ]
  },
  {
   "cell_type": "code",
   "execution_count": 29,
   "id": "4e3cfcbf-7e6e-43fe-83a7-3939db86d519",
   "metadata": {
    "scrolled": true
   },
   "outputs": [],
   "source": [
    "import os\n",
    "import pandas as pd\n",
    "import skimage\n",
    "from skimage.color import label2rgb\n",
    "import numpy as np\n",
    "import rasterio as rio\n",
    "from rasterio.plot import reshape_as_image\n",
    "from skimage.transform import resize\n",
    "import proplot as pplt\n",
    "regions = pd.read_csv('../data/metadata/region_definitions.csv', index_col='region')\n",
    "cases = pd.read_csv('../data/metadata/validation_dataset_case_list.csv')\n",
    "cases['start_date'] = pd.to_datetime(cases['start_date'].values)\n",
    "saveloc = '../data/modis/'\n",
    "ebseg_loc = '../data/ift_images/ebseg_v0/'\n",
    "labeled_loc = '../data/validation_images/'"
   ]
  },
  {
   "cell_type": "code",
   "execution_count": 32,
   "id": "747cc8fe-028e-49e5-8924-fc604787f8bb",
   "metadata": {},
   "outputs": [
    {
     "name": "stdout",
     "output_type": "stream",
     "text": [
      "0\n"
     ]
    },
    {
     "name": "stderr",
     "output_type": "stream",
     "text": [
      "C:\\Users\\danie\\.conda\\envs\\cal-val\\lib\\site-packages\\numpy\\ma\\core.py:467: RuntimeWarning: invalid value encountered in cast\n",
      "  fill_value = np.array(fill_value, copy=False, dtype=ndtype)\n",
      "C:\\Users\\danie\\.conda\\envs\\cal-val\\lib\\site-packages\\numpy\\ma\\core.py:467: RuntimeWarning: invalid value encountered in cast\n",
      "  fill_value = np.array(fill_value, copy=False, dtype=ndtype)\n",
      "C:\\Users\\danie\\.conda\\envs\\cal-val\\lib\\site-packages\\numpy\\ma\\core.py:467: RuntimeWarning: invalid value encountered in cast\n",
      "  fill_value = np.array(fill_value, copy=False, dtype=ndtype)\n",
      "C:\\Users\\danie\\.conda\\envs\\cal-val\\lib\\site-packages\\numpy\\ma\\core.py:467: RuntimeWarning: invalid value encountered in cast\n",
      "  fill_value = np.array(fill_value, copy=False, dtype=ndtype)\n",
      "C:\\Users\\danie\\.conda\\envs\\cal-val\\lib\\site-packages\\numpy\\ma\\core.py:467: RuntimeWarning: invalid value encountered in cast\n",
      "  fill_value = np.array(fill_value, copy=False, dtype=ndtype)\n",
      "C:\\Users\\danie\\.conda\\envs\\cal-val\\lib\\site-packages\\numpy\\ma\\core.py:467: RuntimeWarning: invalid value encountered in cast\n",
      "  fill_value = np.array(fill_value, copy=False, dtype=ndtype)\n",
      "C:\\Users\\danie\\.conda\\envs\\cal-val\\lib\\site-packages\\numpy\\ma\\core.py:467: RuntimeWarning: invalid value encountered in cast\n",
      "  fill_value = np.array(fill_value, copy=False, dtype=ndtype)\n",
      "C:\\Users\\danie\\.conda\\envs\\cal-val\\lib\\site-packages\\numpy\\ma\\core.py:467: RuntimeWarning: invalid value encountered in cast\n",
      "  fill_value = np.array(fill_value, copy=False, dtype=ndtype)\n",
      "C:\\Users\\danie\\.conda\\envs\\cal-val\\lib\\site-packages\\numpy\\ma\\core.py:467: RuntimeWarning: invalid value encountered in cast\n",
      "  fill_value = np.array(fill_value, copy=False, dtype=ndtype)\n",
      "C:\\Users\\danie\\.conda\\envs\\cal-val\\lib\\site-packages\\numpy\\ma\\core.py:467: RuntimeWarning: invalid value encountered in cast\n",
      "  fill_value = np.array(fill_value, copy=False, dtype=ndtype)\n",
      "C:\\Users\\danie\\.conda\\envs\\cal-val\\lib\\site-packages\\numpy\\ma\\core.py:467: RuntimeWarning: invalid value encountered in cast\n",
      "  fill_value = np.array(fill_value, copy=False, dtype=ndtype)\n",
      "C:\\Users\\danie\\.conda\\envs\\cal-val\\lib\\site-packages\\numpy\\ma\\core.py:467: RuntimeWarning: invalid value encountered in cast\n",
      "  fill_value = np.array(fill_value, copy=False, dtype=ndtype)\n",
      "C:\\Users\\danie\\.conda\\envs\\cal-val\\lib\\site-packages\\numpy\\ma\\core.py:467: RuntimeWarning: invalid value encountered in cast\n",
      "  fill_value = np.array(fill_value, copy=False, dtype=ndtype)\n",
      "C:\\Users\\danie\\.conda\\envs\\cal-val\\lib\\site-packages\\numpy\\ma\\core.py:467: RuntimeWarning: invalid value encountered in cast\n",
      "  fill_value = np.array(fill_value, copy=False, dtype=ndtype)\n",
      "C:\\Users\\danie\\.conda\\envs\\cal-val\\lib\\site-packages\\numpy\\ma\\core.py:467: RuntimeWarning: invalid value encountered in cast\n",
      "  fill_value = np.array(fill_value, copy=False, dtype=ndtype)\n",
      "C:\\Users\\danie\\.conda\\envs\\cal-val\\lib\\site-packages\\numpy\\ma\\core.py:467: RuntimeWarning: invalid value encountered in cast\n",
      "  fill_value = np.array(fill_value, copy=False, dtype=ndtype)\n",
      "C:\\Users\\danie\\.conda\\envs\\cal-val\\lib\\site-packages\\numpy\\ma\\core.py:467: RuntimeWarning: invalid value encountered in cast\n",
      "  fill_value = np.array(fill_value, copy=False, dtype=ndtype)\n",
      "C:\\Users\\danie\\.conda\\envs\\cal-val\\lib\\site-packages\\numpy\\ma\\core.py:467: RuntimeWarning: invalid value encountered in cast\n",
      "  fill_value = np.array(fill_value, copy=False, dtype=ndtype)\n",
      "C:\\Users\\danie\\.conda\\envs\\cal-val\\lib\\site-packages\\numpy\\ma\\core.py:467: RuntimeWarning: invalid value encountered in cast\n",
      "  fill_value = np.array(fill_value, copy=False, dtype=ndtype)\n",
      "C:\\Users\\danie\\.conda\\envs\\cal-val\\lib\\site-packages\\numpy\\ma\\core.py:467: RuntimeWarning: invalid value encountered in cast\n",
      "  fill_value = np.array(fill_value, copy=False, dtype=ndtype)\n",
      "C:\\Users\\danie\\.conda\\envs\\cal-val\\lib\\site-packages\\numpy\\ma\\core.py:467: RuntimeWarning: invalid value encountered in cast\n",
      "  fill_value = np.array(fill_value, copy=False, dtype=ndtype)\n",
      "C:\\Users\\danie\\.conda\\envs\\cal-val\\lib\\site-packages\\numpy\\ma\\core.py:467: RuntimeWarning: invalid value encountered in cast\n",
      "  fill_value = np.array(fill_value, copy=False, dtype=ndtype)\n",
      "C:\\Users\\danie\\.conda\\envs\\cal-val\\lib\\site-packages\\numpy\\ma\\core.py:467: RuntimeWarning: invalid value encountered in cast\n",
      "  fill_value = np.array(fill_value, copy=False, dtype=ndtype)\n",
      "C:\\Users\\danie\\.conda\\envs\\cal-val\\lib\\site-packages\\numpy\\ma\\core.py:467: RuntimeWarning: invalid value encountered in cast\n",
      "  fill_value = np.array(fill_value, copy=False, dtype=ndtype)\n",
      "C:\\Users\\danie\\.conda\\envs\\cal-val\\lib\\site-packages\\numpy\\ma\\core.py:467: RuntimeWarning: invalid value encountered in cast\n",
      "  fill_value = np.array(fill_value, copy=False, dtype=ndtype)\n",
      "C:\\Users\\danie\\.conda\\envs\\cal-val\\lib\\site-packages\\numpy\\ma\\core.py:467: RuntimeWarning: invalid value encountered in cast\n",
      "  fill_value = np.array(fill_value, copy=False, dtype=ndtype)\n",
      "C:\\Users\\danie\\.conda\\envs\\cal-val\\lib\\site-packages\\numpy\\ma\\core.py:467: RuntimeWarning: invalid value encountered in cast\n",
      "  fill_value = np.array(fill_value, copy=False, dtype=ndtype)\n",
      "C:\\Users\\danie\\.conda\\envs\\cal-val\\lib\\site-packages\\numpy\\ma\\core.py:467: RuntimeWarning: invalid value encountered in cast\n",
      "  fill_value = np.array(fill_value, copy=False, dtype=ndtype)\n",
      "C:\\Users\\danie\\.conda\\envs\\cal-val\\lib\\site-packages\\numpy\\ma\\core.py:467: RuntimeWarning: invalid value encountered in cast\n",
      "  fill_value = np.array(fill_value, copy=False, dtype=ndtype)\n",
      "C:\\Users\\danie\\.conda\\envs\\cal-val\\lib\\site-packages\\numpy\\ma\\core.py:467: RuntimeWarning: invalid value encountered in cast\n",
      "  fill_value = np.array(fill_value, copy=False, dtype=ndtype)\n",
      "C:\\Users\\danie\\.conda\\envs\\cal-val\\lib\\site-packages\\numpy\\ma\\core.py:467: RuntimeWarning: invalid value encountered in cast\n",
      "  fill_value = np.array(fill_value, copy=False, dtype=ndtype)\n",
      "C:\\Users\\danie\\.conda\\envs\\cal-val\\lib\\site-packages\\numpy\\ma\\core.py:467: RuntimeWarning: invalid value encountered in cast\n",
      "  fill_value = np.array(fill_value, copy=False, dtype=ndtype)\n",
      "C:\\Users\\danie\\.conda\\envs\\cal-val\\lib\\site-packages\\numpy\\ma\\core.py:467: RuntimeWarning: invalid value encountered in cast\n",
      "  fill_value = np.array(fill_value, copy=False, dtype=ndtype)\n",
      "C:\\Users\\danie\\.conda\\envs\\cal-val\\lib\\site-packages\\numpy\\ma\\core.py:467: RuntimeWarning: invalid value encountered in cast\n",
      "  fill_value = np.array(fill_value, copy=False, dtype=ndtype)\n",
      "C:\\Users\\danie\\.conda\\envs\\cal-val\\lib\\site-packages\\numpy\\ma\\core.py:467: RuntimeWarning: invalid value encountered in cast\n",
      "  fill_value = np.array(fill_value, copy=False, dtype=ndtype)\n",
      "C:\\Users\\danie\\.conda\\envs\\cal-val\\lib\\site-packages\\numpy\\ma\\core.py:467: RuntimeWarning: invalid value encountered in cast\n",
      "  fill_value = np.array(fill_value, copy=False, dtype=ndtype)\n"
     ]
    },
    {
     "name": "stdout",
     "output_type": "stream",
     "text": [
      "82\n",
      "82\n",
      "89\n"
     ]
    },
    {
     "name": "stderr",
     "output_type": "stream",
     "text": [
      "C:\\Users\\danie\\.conda\\envs\\cal-val\\lib\\site-packages\\numpy\\ma\\core.py:467: RuntimeWarning: invalid value encountered in cast\n",
      "  fill_value = np.array(fill_value, copy=False, dtype=ndtype)\n",
      "C:\\Users\\danie\\.conda\\envs\\cal-val\\lib\\site-packages\\numpy\\ma\\core.py:467: RuntimeWarning: invalid value encountered in cast\n",
      "  fill_value = np.array(fill_value, copy=False, dtype=ndtype)\n",
      "C:\\Users\\danie\\.conda\\envs\\cal-val\\lib\\site-packages\\numpy\\ma\\core.py:467: RuntimeWarning: invalid value encountered in cast\n",
      "  fill_value = np.array(fill_value, copy=False, dtype=ndtype)\n",
      "C:\\Users\\danie\\.conda\\envs\\cal-val\\lib\\site-packages\\numpy\\ma\\core.py:467: RuntimeWarning: invalid value encountered in cast\n",
      "  fill_value = np.array(fill_value, copy=False, dtype=ndtype)\n",
      "C:\\Users\\danie\\.conda\\envs\\cal-val\\lib\\site-packages\\numpy\\ma\\core.py:467: RuntimeWarning: invalid value encountered in cast\n",
      "  fill_value = np.array(fill_value, copy=False, dtype=ndtype)\n",
      "C:\\Users\\danie\\.conda\\envs\\cal-val\\lib\\site-packages\\numpy\\ma\\core.py:467: RuntimeWarning: invalid value encountered in cast\n",
      "  fill_value = np.array(fill_value, copy=False, dtype=ndtype)\n",
      "C:\\Users\\danie\\.conda\\envs\\cal-val\\lib\\site-packages\\numpy\\ma\\core.py:467: RuntimeWarning: invalid value encountered in cast\n",
      "  fill_value = np.array(fill_value, copy=False, dtype=ndtype)\n",
      "C:\\Users\\danie\\.conda\\envs\\cal-val\\lib\\site-packages\\numpy\\ma\\core.py:467: RuntimeWarning: invalid value encountered in cast\n",
      "  fill_value = np.array(fill_value, copy=False, dtype=ndtype)\n",
      "C:\\Users\\danie\\.conda\\envs\\cal-val\\lib\\site-packages\\numpy\\ma\\core.py:467: RuntimeWarning: invalid value encountered in cast\n",
      "  fill_value = np.array(fill_value, copy=False, dtype=ndtype)\n",
      "C:\\Users\\danie\\.conda\\envs\\cal-val\\lib\\site-packages\\numpy\\ma\\core.py:467: RuntimeWarning: invalid value encountered in cast\n",
      "  fill_value = np.array(fill_value, copy=False, dtype=ndtype)\n",
      "C:\\Users\\danie\\.conda\\envs\\cal-val\\lib\\site-packages\\numpy\\ma\\core.py:467: RuntimeWarning: invalid value encountered in cast\n",
      "  fill_value = np.array(fill_value, copy=False, dtype=ndtype)\n",
      "C:\\Users\\danie\\.conda\\envs\\cal-val\\lib\\site-packages\\numpy\\ma\\core.py:467: RuntimeWarning: invalid value encountered in cast\n",
      "  fill_value = np.array(fill_value, copy=False, dtype=ndtype)\n",
      "C:\\Users\\danie\\.conda\\envs\\cal-val\\lib\\site-packages\\numpy\\ma\\core.py:467: RuntimeWarning: invalid value encountered in cast\n",
      "  fill_value = np.array(fill_value, copy=False, dtype=ndtype)\n",
      "C:\\Users\\danie\\.conda\\envs\\cal-val\\lib\\site-packages\\numpy\\ma\\core.py:467: RuntimeWarning: invalid value encountered in cast\n",
      "  fill_value = np.array(fill_value, copy=False, dtype=ndtype)\n",
      "C:\\Users\\danie\\.conda\\envs\\cal-val\\lib\\site-packages\\numpy\\ma\\core.py:467: RuntimeWarning: invalid value encountered in cast\n",
      "  fill_value = np.array(fill_value, copy=False, dtype=ndtype)\n",
      "C:\\Users\\danie\\.conda\\envs\\cal-val\\lib\\site-packages\\numpy\\ma\\core.py:467: RuntimeWarning: invalid value encountered in cast\n",
      "  fill_value = np.array(fill_value, copy=False, dtype=ndtype)\n",
      "C:\\Users\\danie\\.conda\\envs\\cal-val\\lib\\site-packages\\numpy\\ma\\core.py:467: RuntimeWarning: invalid value encountered in cast\n",
      "  fill_value = np.array(fill_value, copy=False, dtype=ndtype)\n",
      "C:\\Users\\danie\\.conda\\envs\\cal-val\\lib\\site-packages\\numpy\\ma\\core.py:467: RuntimeWarning: invalid value encountered in cast\n",
      "  fill_value = np.array(fill_value, copy=False, dtype=ndtype)\n",
      "C:\\Users\\danie\\.conda\\envs\\cal-val\\lib\\site-packages\\numpy\\ma\\core.py:467: RuntimeWarning: invalid value encountered in cast\n",
      "  fill_value = np.array(fill_value, copy=False, dtype=ndtype)\n",
      "C:\\Users\\danie\\.conda\\envs\\cal-val\\lib\\site-packages\\numpy\\ma\\core.py:467: RuntimeWarning: invalid value encountered in cast\n",
      "  fill_value = np.array(fill_value, copy=False, dtype=ndtype)\n"
     ]
    },
    {
     "name": "stdout",
     "output_type": "stream",
     "text": [
      "144\n"
     ]
    },
    {
     "name": "stderr",
     "output_type": "stream",
     "text": [
      "C:\\Users\\danie\\.conda\\envs\\cal-val\\lib\\site-packages\\numpy\\ma\\core.py:467: RuntimeWarning: invalid value encountered in cast\n",
      "  fill_value = np.array(fill_value, copy=False, dtype=ndtype)\n",
      "C:\\Users\\danie\\.conda\\envs\\cal-val\\lib\\site-packages\\numpy\\ma\\core.py:467: RuntimeWarning: invalid value encountered in cast\n",
      "  fill_value = np.array(fill_value, copy=False, dtype=ndtype)\n"
     ]
    },
    {
     "name": "stdout",
     "output_type": "stream",
     "text": [
      "443\n",
      "443\n",
      "163\n",
      "163\n",
      "450\n",
      "450\n"
     ]
    },
    {
     "name": "stderr",
     "output_type": "stream",
     "text": [
      "C:\\Users\\danie\\.conda\\envs\\cal-val\\lib\\site-packages\\numpy\\ma\\core.py:467: RuntimeWarning: invalid value encountered in cast\n",
      "  fill_value = np.array(fill_value, copy=False, dtype=ndtype)\n",
      "C:\\Users\\danie\\.conda\\envs\\cal-val\\lib\\site-packages\\numpy\\ma\\core.py:467: RuntimeWarning: invalid value encountered in cast\n",
      "  fill_value = np.array(fill_value, copy=False, dtype=ndtype)\n"
     ]
    },
    {
     "name": "stdout",
     "output_type": "stream",
     "text": [
      "168\n",
      "168\n",
      "170\n",
      "171\n",
      "200\n",
      "446\n"
     ]
    },
    {
     "name": "stderr",
     "output_type": "stream",
     "text": [
      "C:\\Users\\danie\\.conda\\envs\\cal-val\\lib\\site-packages\\numpy\\ma\\core.py:467: RuntimeWarning: invalid value encountered in cast\n",
      "  fill_value = np.array(fill_value, copy=False, dtype=ndtype)\n",
      "C:\\Users\\danie\\.conda\\envs\\cal-val\\lib\\site-packages\\numpy\\ma\\core.py:467: RuntimeWarning: invalid value encountered in cast\n",
      "  fill_value = np.array(fill_value, copy=False, dtype=ndtype)\n"
     ]
    },
    {
     "name": "stdout",
     "output_type": "stream",
     "text": [
      "226\n",
      "226\n",
      "234\n",
      "240\n",
      "240\n",
      "241\n",
      "241\n",
      "244\n",
      "244\n"
     ]
    },
    {
     "name": "stderr",
     "output_type": "stream",
     "text": [
      "C:\\Users\\danie\\.conda\\envs\\cal-val\\lib\\site-packages\\numpy\\ma\\core.py:467: RuntimeWarning: invalid value encountered in cast\n",
      "  fill_value = np.array(fill_value, copy=False, dtype=ndtype)\n",
      "C:\\Users\\danie\\.conda\\envs\\cal-val\\lib\\site-packages\\numpy\\ma\\core.py:467: RuntimeWarning: invalid value encountered in cast\n",
      "  fill_value = np.array(fill_value, copy=False, dtype=ndtype)\n",
      "C:\\Users\\danie\\.conda\\envs\\cal-val\\lib\\site-packages\\numpy\\ma\\core.py:467: RuntimeWarning: invalid value encountered in cast\n",
      "  fill_value = np.array(fill_value, copy=False, dtype=ndtype)\n",
      "C:\\Users\\danie\\.conda\\envs\\cal-val\\lib\\site-packages\\numpy\\ma\\core.py:467: RuntimeWarning: invalid value encountered in cast\n",
      "  fill_value = np.array(fill_value, copy=False, dtype=ndtype)\n"
     ]
    },
    {
     "name": "stdout",
     "output_type": "stream",
     "text": [
      "256\n",
      "276\n"
     ]
    },
    {
     "name": "stderr",
     "output_type": "stream",
     "text": [
      "C:\\Users\\danie\\.conda\\envs\\cal-val\\lib\\site-packages\\numpy\\ma\\core.py:467: RuntimeWarning: invalid value encountered in cast\n",
      "  fill_value = np.array(fill_value, copy=False, dtype=ndtype)\n",
      "C:\\Users\\danie\\.conda\\envs\\cal-val\\lib\\site-packages\\numpy\\ma\\core.py:467: RuntimeWarning: invalid value encountered in cast\n",
      "  fill_value = np.array(fill_value, copy=False, dtype=ndtype)\n",
      "C:\\Users\\danie\\.conda\\envs\\cal-val\\lib\\site-packages\\numpy\\ma\\core.py:467: RuntimeWarning: invalid value encountered in cast\n",
      "  fill_value = np.array(fill_value, copy=False, dtype=ndtype)\n",
      "C:\\Users\\danie\\.conda\\envs\\cal-val\\lib\\site-packages\\numpy\\ma\\core.py:467: RuntimeWarning: invalid value encountered in cast\n",
      "  fill_value = np.array(fill_value, copy=False, dtype=ndtype)\n",
      "C:\\Users\\danie\\.conda\\envs\\cal-val\\lib\\site-packages\\numpy\\ma\\core.py:467: RuntimeWarning: invalid value encountered in cast\n",
      "  fill_value = np.array(fill_value, copy=False, dtype=ndtype)\n",
      "C:\\Users\\danie\\.conda\\envs\\cal-val\\lib\\site-packages\\numpy\\ma\\core.py:467: RuntimeWarning: invalid value encountered in cast\n",
      "  fill_value = np.array(fill_value, copy=False, dtype=ndtype)\n",
      "C:\\Users\\danie\\.conda\\envs\\cal-val\\lib\\site-packages\\numpy\\ma\\core.py:467: RuntimeWarning: invalid value encountered in cast\n",
      "  fill_value = np.array(fill_value, copy=False, dtype=ndtype)\n",
      "C:\\Users\\danie\\.conda\\envs\\cal-val\\lib\\site-packages\\numpy\\ma\\core.py:467: RuntimeWarning: invalid value encountered in cast\n",
      "  fill_value = np.array(fill_value, copy=False, dtype=ndtype)\n",
      "C:\\Users\\danie\\.conda\\envs\\cal-val\\lib\\site-packages\\numpy\\ma\\core.py:467: RuntimeWarning: invalid value encountered in cast\n",
      "  fill_value = np.array(fill_value, copy=False, dtype=ndtype)\n",
      "C:\\Users\\danie\\.conda\\envs\\cal-val\\lib\\site-packages\\numpy\\ma\\core.py:467: RuntimeWarning: invalid value encountered in cast\n",
      "  fill_value = np.array(fill_value, copy=False, dtype=ndtype)\n",
      "C:\\Users\\danie\\.conda\\envs\\cal-val\\lib\\site-packages\\numpy\\ma\\core.py:467: RuntimeWarning: invalid value encountered in cast\n",
      "  fill_value = np.array(fill_value, copy=False, dtype=ndtype)\n",
      "C:\\Users\\danie\\.conda\\envs\\cal-val\\lib\\site-packages\\numpy\\ma\\core.py:467: RuntimeWarning: invalid value encountered in cast\n",
      "  fill_value = np.array(fill_value, copy=False, dtype=ndtype)\n",
      "C:\\Users\\danie\\.conda\\envs\\cal-val\\lib\\site-packages\\numpy\\ma\\core.py:467: RuntimeWarning: invalid value encountered in cast\n",
      "  fill_value = np.array(fill_value, copy=False, dtype=ndtype)\n",
      "C:\\Users\\danie\\.conda\\envs\\cal-val\\lib\\site-packages\\numpy\\ma\\core.py:467: RuntimeWarning: invalid value encountered in cast\n",
      "  fill_value = np.array(fill_value, copy=False, dtype=ndtype)\n",
      "C:\\Users\\danie\\.conda\\envs\\cal-val\\lib\\site-packages\\numpy\\ma\\core.py:467: RuntimeWarning: invalid value encountered in cast\n",
      "  fill_value = np.array(fill_value, copy=False, dtype=ndtype)\n",
      "C:\\Users\\danie\\.conda\\envs\\cal-val\\lib\\site-packages\\numpy\\ma\\core.py:467: RuntimeWarning: invalid value encountered in cast\n",
      "  fill_value = np.array(fill_value, copy=False, dtype=ndtype)\n"
     ]
    },
    {
     "name": "stdout",
     "output_type": "stream",
     "text": [
      "311\n",
      "311\n"
     ]
    },
    {
     "name": "stderr",
     "output_type": "stream",
     "text": [
      "C:\\Users\\danie\\.conda\\envs\\cal-val\\lib\\site-packages\\numpy\\ma\\core.py:467: RuntimeWarning: invalid value encountered in cast\n",
      "  fill_value = np.array(fill_value, copy=False, dtype=ndtype)\n",
      "C:\\Users\\danie\\.conda\\envs\\cal-val\\lib\\site-packages\\numpy\\ma\\core.py:467: RuntimeWarning: invalid value encountered in cast\n",
      "  fill_value = np.array(fill_value, copy=False, dtype=ndtype)\n",
      "C:\\Users\\danie\\.conda\\envs\\cal-val\\lib\\site-packages\\numpy\\ma\\core.py:467: RuntimeWarning: invalid value encountered in cast\n",
      "  fill_value = np.array(fill_value, copy=False, dtype=ndtype)\n",
      "C:\\Users\\danie\\.conda\\envs\\cal-val\\lib\\site-packages\\numpy\\ma\\core.py:467: RuntimeWarning: invalid value encountered in cast\n",
      "  fill_value = np.array(fill_value, copy=False, dtype=ndtype)\n"
     ]
    },
    {
     "name": "stdout",
     "output_type": "stream",
     "text": [
      "320\n",
      "455\n",
      "452\n",
      "452\n"
     ]
    },
    {
     "name": "stderr",
     "output_type": "stream",
     "text": [
      "C:\\Users\\danie\\.conda\\envs\\cal-val\\lib\\site-packages\\numpy\\ma\\core.py:467: RuntimeWarning: invalid value encountered in cast\n",
      "  fill_value = np.array(fill_value, copy=False, dtype=ndtype)\n",
      "C:\\Users\\danie\\.conda\\envs\\cal-val\\lib\\site-packages\\numpy\\ma\\core.py:467: RuntimeWarning: invalid value encountered in cast\n",
      "  fill_value = np.array(fill_value, copy=False, dtype=ndtype)\n",
      "C:\\Users\\danie\\.conda\\envs\\cal-val\\lib\\site-packages\\numpy\\ma\\core.py:467: RuntimeWarning: invalid value encountered in cast\n",
      "  fill_value = np.array(fill_value, copy=False, dtype=ndtype)\n",
      "C:\\Users\\danie\\.conda\\envs\\cal-val\\lib\\site-packages\\numpy\\ma\\core.py:467: RuntimeWarning: invalid value encountered in cast\n",
      "  fill_value = np.array(fill_value, copy=False, dtype=ndtype)\n",
      "C:\\Users\\danie\\.conda\\envs\\cal-val\\lib\\site-packages\\numpy\\ma\\core.py:467: RuntimeWarning: invalid value encountered in cast\n",
      "  fill_value = np.array(fill_value, copy=False, dtype=ndtype)\n",
      "C:\\Users\\danie\\.conda\\envs\\cal-val\\lib\\site-packages\\numpy\\ma\\core.py:467: RuntimeWarning: invalid value encountered in cast\n",
      "  fill_value = np.array(fill_value, copy=False, dtype=ndtype)\n",
      "C:\\Users\\danie\\.conda\\envs\\cal-val\\lib\\site-packages\\numpy\\ma\\core.py:467: RuntimeWarning: invalid value encountered in cast\n",
      "  fill_value = np.array(fill_value, copy=False, dtype=ndtype)\n",
      "C:\\Users\\danie\\.conda\\envs\\cal-val\\lib\\site-packages\\numpy\\ma\\core.py:467: RuntimeWarning: invalid value encountered in cast\n",
      "  fill_value = np.array(fill_value, copy=False, dtype=ndtype)\n"
     ]
    },
    {
     "name": "stdout",
     "output_type": "stream",
     "text": [
      "352\n",
      "352\n"
     ]
    },
    {
     "name": "stderr",
     "output_type": "stream",
     "text": [
      "C:\\Users\\danie\\.conda\\envs\\cal-val\\lib\\site-packages\\numpy\\ma\\core.py:467: RuntimeWarning: invalid value encountered in cast\n",
      "  fill_value = np.array(fill_value, copy=False, dtype=ndtype)\n",
      "C:\\Users\\danie\\.conda\\envs\\cal-val\\lib\\site-packages\\numpy\\ma\\core.py:467: RuntimeWarning: invalid value encountered in cast\n",
      "  fill_value = np.array(fill_value, copy=False, dtype=ndtype)\n",
      "C:\\Users\\danie\\.conda\\envs\\cal-val\\lib\\site-packages\\numpy\\ma\\core.py:467: RuntimeWarning: invalid value encountered in cast\n",
      "  fill_value = np.array(fill_value, copy=False, dtype=ndtype)\n",
      "C:\\Users\\danie\\.conda\\envs\\cal-val\\lib\\site-packages\\numpy\\ma\\core.py:467: RuntimeWarning: invalid value encountered in cast\n",
      "  fill_value = np.array(fill_value, copy=False, dtype=ndtype)\n",
      "C:\\Users\\danie\\.conda\\envs\\cal-val\\lib\\site-packages\\numpy\\ma\\core.py:467: RuntimeWarning: invalid value encountered in cast\n",
      "  fill_value = np.array(fill_value, copy=False, dtype=ndtype)\n",
      "C:\\Users\\danie\\.conda\\envs\\cal-val\\lib\\site-packages\\numpy\\ma\\core.py:467: RuntimeWarning: invalid value encountered in cast\n",
      "  fill_value = np.array(fill_value, copy=False, dtype=ndtype)\n"
     ]
    },
    {
     "name": "stdout",
     "output_type": "stream",
     "text": [
      "363\n",
      "372\n"
     ]
    },
    {
     "name": "stderr",
     "output_type": "stream",
     "text": [
      "C:\\Users\\danie\\.conda\\envs\\cal-val\\lib\\site-packages\\numpy\\ma\\core.py:467: RuntimeWarning: invalid value encountered in cast\n",
      "  fill_value = np.array(fill_value, copy=False, dtype=ndtype)\n",
      "C:\\Users\\danie\\.conda\\envs\\cal-val\\lib\\site-packages\\numpy\\ma\\core.py:467: RuntimeWarning: invalid value encountered in cast\n",
      "  fill_value = np.array(fill_value, copy=False, dtype=ndtype)\n"
     ]
    },
    {
     "name": "stdout",
     "output_type": "stream",
     "text": [
      "378\n",
      "378\n"
     ]
    },
    {
     "name": "stderr",
     "output_type": "stream",
     "text": [
      "C:\\Users\\danie\\.conda\\envs\\cal-val\\lib\\site-packages\\numpy\\ma\\core.py:467: RuntimeWarning: invalid value encountered in cast\n",
      "  fill_value = np.array(fill_value, copy=False, dtype=ndtype)\n",
      "C:\\Users\\danie\\.conda\\envs\\cal-val\\lib\\site-packages\\numpy\\ma\\core.py:467: RuntimeWarning: invalid value encountered in cast\n",
      "  fill_value = np.array(fill_value, copy=False, dtype=ndtype)\n",
      "C:\\Users\\danie\\.conda\\envs\\cal-val\\lib\\site-packages\\numpy\\ma\\core.py:467: RuntimeWarning: invalid value encountered in cast\n",
      "  fill_value = np.array(fill_value, copy=False, dtype=ndtype)\n",
      "C:\\Users\\danie\\.conda\\envs\\cal-val\\lib\\site-packages\\numpy\\ma\\core.py:467: RuntimeWarning: invalid value encountered in cast\n",
      "  fill_value = np.array(fill_value, copy=False, dtype=ndtype)\n"
     ]
    },
    {
     "name": "stdout",
     "output_type": "stream",
     "text": [
      "386\n",
      "386\n",
      "387\n",
      "466\n",
      "401\n",
      "457\n",
      "457\n",
      "464\n",
      "464\n",
      "461\n",
      "431\n",
      "431\n",
      "440\n",
      "440\n"
     ]
    }
   ],
   "source": [
    "for row, case in cases.iterrows():\n",
    "    cn = str(case.case_number).zfill(3)\n",
    "    region = case.region\n",
    "    start = case.start_date # check start date format\n",
    "    end = case.start_date + pd.to_timedelta('1d')\n",
    "    dx = '100km'\n",
    "\n",
    "    \n",
    "    for satellite in ['aqua', 'terra']:\n",
    "        case_folder = '-'.join([cn, region, dx, start.strftime('%Y%m%d'), end.strftime('%Y%m%d')])\n",
    "        case_folder += '/' + '-'.join([region, start.strftime('%Y-%m-%d'), satellite])\n",
    "        ebseg_path = ebseg_loc +  '-'.join(\n",
    "            [cn, region, dx, start.strftime('%Y%m%d'), satellite, 'ebseg_v0']) + '.tiff'\n",
    "    \n",
    "        if os.path.isfile(ebseg_path):\n",
    "\n",
    "            # Load truecolor image\n",
    "            with rio.open(\n",
    "                saveloc + 'truecolor' + '/' + '.'.join(['-'.join([cn, region, dx, start.strftime('%Y%m%d')]),\n",
    "                                                       satellite, 'truecolor', '250m', 'tiff'])) as truecolor_image:\n",
    "                tc_imdata = truecolor_image.read()\n",
    "                tc_bounds = truecolor_image.bounds\n",
    "\n",
    "            # Load labeled image\n",
    "            with rio.open(ebseg_loc + '-'.join(\n",
    "                [cn, region, dx, start.strftime('%Y%m%d'), satellite, 'ebseg_v0']) + '.tiff') as ebseg_labeled_image:\n",
    "                # ebseg_imdata = resize(ebseg_labeled_image.read().squeeze(), (391, 391), order=0)\n",
    "                ebseg_imdata = ebseg_labeled_image.read().squeeze()\n",
    "            left, bottom, right, top = tc_bounds\n",
    "\n",
    "            # Overlay colored labels on the TC image\n",
    "            fig, ax = pplt.subplots(width=6)\n",
    "            if np.any(ebseg_imdata > 0):\n",
    "                overlay_ebseg = label2rgb(label=ebseg_imdata,\n",
    "                                           image=reshape_as_image(tc_imdata),\n",
    "                                           kind='overlay', alpha=0.5,\n",
    "                                           bg_color=None,\n",
    "                                           bg_label=0)\n",
    "                ax.imshow(overlay_ebseg, extent=[left, right, top, bottom])\n",
    "\n",
    "            else:\n",
    "                ax.imshow(reshape_as_image(tc_imdata), extent=[left, right, top, bottom])\n",
    "\n",
    "            # If manually labeled floes exist, overlay an outline\n",
    "            label_path = labeled_loc + 'labeled_floes_png/' + \\\n",
    "                                           '-'.join([cn, region, start.strftime('%Y%m%d'),\n",
    "                                                     satellite, 'labeled_floes']) + '.png'\n",
    "            if os.path.isfile(label_path):\n",
    "                manually_labeled_image = skimage.io.imread(label_path)[:,:,0]\n",
    "                eroded_image = skimage.morphology.erosion(manually_labeled_image, skimage.morphology.disk(1))\n",
    "                borders = np.ma.masked_array(manually_labeled_image, mask=manually_labeled_image - eroded_image == 0) \n",
    "                ax.imshow(borders, color='k', alpha=1, extent=[left, right, top, bottom])\n",
    "                \n",
    "            ax.axis('off')\n",
    "            fig.save('../data/ift_images/overlays/' + \\\n",
    "                     '-'.join([cn, region, dx, start.strftime('%Y%m%d'), satellite, 'ebseg_v0']) + '.png',\n",
    "                     dpi=300, bbox_inches='tight', pad_inches=0)\n",
    "            pplt.close(fig)\n",
    "        else:\n",
    "            print(case.case_number)\n",
    "       \n"
   ]
  },
  {
   "cell_type": "code",
   "execution_count": 31,
   "id": "6b15e9e9-f5c7-4105-afcb-6efea5ae4824",
   "metadata": {},
   "outputs": [
    {
     "data": {
      "text/plain": [
       "(1, 391, 391)"
      ]
     },
     "execution_count": 31,
     "metadata": {},
     "output_type": "execute_result"
    }
   ],
   "source": [
    "ebseg_imdata.shape"
   ]
  },
  {
   "cell_type": "code",
   "execution_count": 89,
   "id": "cdd212b4-20cc-4350-8bdf-035249fc3186",
   "metadata": {},
   "outputs": [],
   "source": [
    "left, bottom, right, top = ebseg_labeled_image.bounds"
   ]
  },
  {
   "cell_type": "code",
   "execution_count": 90,
   "id": "23659f7a-c3ae-451f-99b9-cdad641deed9",
   "metadata": {},
   "outputs": [
    {
     "data": {
      "text/plain": [
       "250.0"
      ]
     },
     "execution_count": 90,
     "metadata": {},
     "output_type": "execute_result"
    }
   ],
   "source": [
    "(right - left)/400"
   ]
  },
  {
   "cell_type": "code",
   "execution_count": null,
   "id": "aa571896-d66f-4fd1-afff-c3101da93add",
   "metadata": {},
   "outputs": [],
   "source": []
  }
 ],
 "metadata": {
  "kernelspec": {
   "display_name": "Python 3 (ipykernel)",
   "language": "python",
   "name": "python3"
  },
  "language_info": {
   "codemirror_mode": {
    "name": "ipython",
    "version": 3
   },
   "file_extension": ".py",
   "mimetype": "text/x-python",
   "name": "python",
   "nbconvert_exporter": "python",
   "pygments_lexer": "ipython3",
   "version": "3.9.13"
  }
 },
 "nbformat": 4,
 "nbformat_minor": 5
}
